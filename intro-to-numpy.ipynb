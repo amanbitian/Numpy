{
 "cells": [
  {
   "cell_type": "markdown",
   "id": "1de7355e",
   "metadata": {
    "papermill": {
     "duration": 0.098905,
     "end_time": "2022-01-08T22:31:55.228921",
     "exception": false,
     "start_time": "2022-01-08T22:31:55.130016",
     "status": "completed"
    },
    "tags": []
   },
   "source": [
    "# Numpy ( Numerical Python )\n",
    " \n",
    " **Numpy is a multi-dimensional array libray**\n",
    "\n",
    "1. Why Use Numpy?\n",
    "    * In Python we have lists that serve the purpose of arrays, but they are slow to process.\n",
    "    * NumPy aims to provide an array object that is up to 50x faster than traditional Python lists.\n",
    "    * The array object in NumPy is called ndarray, it provides a lot of supporting functions that make working with ndarray very easy.\n",
    "    * Arrays are very frequently used in data science, where speed and resources are very important.\n",
    "  \n",
    "  \n",
    "2. Why is NumPy Faster Than Lists? or Why use Numpy over List?\n",
    "    * NumPy arrays are stored at one continuous place in memory unlike lists, so processes can access and manipulate them very efficiently.\n",
    "    * This behavior is called locality of reference in computer science.\n",
    "    * This is the main reason why **NumPy is faster than lists.** Also it is **optimized to work with latest CPU architectures.** \n",
    "    * Numpy is fast because it uses fixed types\n",
    "    \n",
    "3. Why Numpy used for numerical computation in python?\n",
    "    * NumPy internally stores data in a contiguous block of memory, independent of other built-in Python objects. NumPy’s library of algorithms written in the C language can operate on this memory without any type checking or other overhead. NumPy arrays also use much less memory than built-in Python sequences.\n",
    "    * **NumPy operations perform complex computations on entire arrays without the need for Python for loops.**\n",
    "\n",
    "**NOTE:** `NumPy is a Python library and is written partially in Python, but most of the parts that require fast computation are written in C or C++.`  \n",
    "          `NumPy has a whole sub module dedicated towards matrix operations called numpy.mat`\n",
    "          \n",
    "### Fun Facts about Numpy\n",
    "• ndarray, an efficient multidimensional array providing fast array-oriented arithmetic operations and flexible broadcasting capabilities.  \n",
    "• Mathematical functions for fast operations on entire arrays of data without having to write loops.  \n",
    "• Tools for reading/writing array data to disk and working with memory-mapped files.  \n",
    "• Linear algebra, random number generation, and Fourier transform capabilities.  \n",
    "• A C API for connecting NumPy with libraries written in C, C++, or FORTRAN.  \n",
    "\n",
    "## Application of Numpy\n",
    "1. Mathematics (Matplab Replacement)\n",
    "2. Plotting Matplotlib\n",
    "3. Backend (of pandas, connect4, Digital Photography {Later on we will see how we can represent an image in form of array})\n",
    "4. Machine Learning and Deep Learning (Idea of tensors infact Tensor is quite similar to Numpy Library)\n",
    "\n",
    "### As a analyst Numpy is used for\n",
    "• Fast vectorized array operations for data munging and cleaning, subsetting and filtering, transformation, and any other kinds of computations  \n",
    "• Common array algorithms like sorting, unique, and set operations    \n",
    "• Efficient descriptive statistics and aggregating/summarizing data   \n",
    "• Data alignment and relational data manipulations for merging and joining together heterogeneous datasets  \n",
    "• Expressing conditional logic as array expressions instead of loops with if-elif-else branches  \n",
    "• Group-wise data manipulations (aggregation, transformation, function application)"
   ]
  },
  {
   "cell_type": "markdown",
   "id": "b6f4b878",
   "metadata": {
    "papermill": {
     "duration": 0.103564,
     "end_time": "2022-01-08T22:31:55.434612",
     "exception": false,
     "start_time": "2022-01-08T22:31:55.331048",
     "status": "completed"
    },
    "tags": []
   },
   "source": [
    "### Highlights of what we will use in this notebook\n",
    "1. array()   :: Create Array\n",
    "2. type()    :: Get Type\n",
    "3. dtype()   :: Get Data type\n",
    "4. ndim()    :: Get Dimension\n",
    "5. shape     :: Get Shape\n",
    "5. itemsize  :: Get Size(returns in bytes), Length of one array element in bytes.\n",
    "6. nbytes    :: Total Bytes consumed by elements of the array\n",
    "7. reshape   :: By reshaping we can add or remove dimensions or change number of elements in each dimension.\n",
    "\n",
    "* NumPy arrays have an attribute called **shape** that returns a tuple with each index having the number of corresponding elements"
   ]
  },
  {
   "cell_type": "code",
   "execution_count": 1,
   "id": "03745b62",
   "metadata": {
    "_cell_guid": "b1076dfc-b9ad-4769-8c92-a6c4dae69d19",
    "_uuid": "8f2839f25d086af736a60e9eeb907d3b93b6e0e5",
    "execution": {
     "iopub.execute_input": "2022-01-08T22:31:55.645757Z",
     "iopub.status.busy": "2022-01-08T22:31:55.645177Z",
     "iopub.status.idle": "2022-01-08T22:31:55.649448Z",
     "shell.execute_reply": "2022-01-08T22:31:55.648703Z",
     "shell.execute_reply.started": "2022-01-08T22:31:20.342187Z"
    },
    "papermill": {
     "duration": 0.11391,
     "end_time": "2022-01-08T22:31:55.649619",
     "exception": false,
     "start_time": "2022-01-08T22:31:55.535709",
     "status": "completed"
    },
    "tags": []
   },
   "outputs": [],
   "source": [
    "# On Kaggle Numpy is pre installed ( else use pip install numpy)\n",
    "## Once installed import numpy as \n",
    "\n",
    "import numpy as np\n",
    "from numpy import random  ## NumPy offers the random module to work with random numbers.\n",
    "\n",
    "## Here np is alias (In Python alias are an alternate name for referring to the same thing.)\n",
    "### Thus now the NumPy package can be referred to as np instead of numpy."
   ]
  },
  {
   "cell_type": "code",
   "execution_count": 2,
   "id": "b56f63a4",
   "metadata": {
    "execution": {
     "iopub.execute_input": "2022-01-08T22:31:55.850144Z",
     "iopub.status.busy": "2022-01-08T22:31:55.848778Z",
     "iopub.status.idle": "2022-01-08T22:31:55.853573Z",
     "shell.execute_reply": "2022-01-08T22:31:55.853997Z",
     "shell.execute_reply.started": "2022-01-08T22:31:20.351244Z"
    },
    "papermill": {
     "duration": 0.103378,
     "end_time": "2022-01-08T22:31:55.854148",
     "exception": false,
     "start_time": "2022-01-08T22:31:55.750770",
     "status": "completed"
    },
    "tags": []
   },
   "outputs": [
    {
     "name": "stdout",
     "output_type": "stream",
     "text": [
      "Numpy Version:  1.19.5\n"
     ]
    }
   ],
   "source": [
    "### Checking NumPy Version \n",
    "print('Numpy Version: ',np.__version__)"
   ]
  },
  {
   "attachments": {
    "3a659304-3332-4016-9899-7033e41bcb42.png": {
     "image/png": "[encoded data removed]"
    },
    "49b78b16-20a1-49ca-b252-f82b98a71b9a.jpg": {
     "image/jpeg": "[encoded data removed]"
    },
    "ae5c6e54-8267-4829-92d2-6354b812442a.png": {
     "image/png": "[encoded data removed]"
    },
    "dbdc28f4-1f91-40f4-9e45-34811fd15941.jpg": {
     "image/jpeg": "[encoded data removed]"
    }
   },
   "cell_type": "markdown",
   "id": "3c41cb9e",
   "metadata": {
    "papermill": {
     "duration": 0.097907,
     "end_time": "2022-01-08T22:31:56.069300",
     "exception": false,
     "start_time": "2022-01-08T22:31:55.971393",
     "status": "completed"
    },
    "tags": []
   },
   "source": [
    "# Array\n",
    "\n",
    "NumPy is used to work with arrays. The array object in NumPy is called ndarray.\n",
    "\n",
    "![numpy_arrays-1024x572.png](attachment:3a659304-3332-4016-9899-7033e41bcb42.png)\n",
    "\n",
    "\n",
    "***What is Broadcasting?***\n",
    "The purpose of broadcasting is to facilitate the operation of matrices. so what is broadcasting? ？ when the matrix is added and subtracted, when the two matrix dimensions do not match ， will trigger the broadcast mechanism. let's take a look at the picture below.\n",
    "![numpy_broadcasting.png](attachment:ae5c6e54-8267-4829-92d2-6354b812442a.png)\n",
    "\n",
    "![adding-different-size-matrices.jpg](attachment:dbdc28f4-1f91-40f4-9e45-34811fd15941.jpg)\n",
    "![Dimensions+are+not+the+same..jpg](attachment:49b78b16-20a1-49ca-b252-f82b98a71b9a.jpg)\n",
    "\n"
   ]
  },
  {
   "cell_type": "markdown",
   "id": "1365de0f",
   "metadata": {
    "papermill": {
     "duration": 0.097173,
     "end_time": "2022-01-08T22:31:56.263144",
     "exception": false,
     "start_time": "2022-01-08T22:31:56.165971",
     "status": "completed"
    },
    "tags": []
   },
   "source": [
    "# 1. Array Creation"
   ]
  },
  {
   "cell_type": "code",
   "execution_count": 3,
   "id": "daace195",
   "metadata": {
    "execution": {
     "iopub.execute_input": "2022-01-08T22:31:56.467054Z",
     "iopub.status.busy": "2022-01-08T22:31:56.466417Z",
     "iopub.status.idle": "2022-01-08T22:31:56.469609Z",
     "shell.execute_reply": "2022-01-08T22:31:56.468989Z",
     "shell.execute_reply.started": "2022-01-08T22:31:20.368187Z"
    },
    "papermill": {
     "duration": 0.110221,
     "end_time": "2022-01-08T22:31:56.469756",
     "exception": false,
     "start_time": "2022-01-08T22:31:56.359535",
     "status": "completed"
    },
    "tags": []
   },
   "outputs": [
    {
     "data": {
      "text/plain": [
       "array([ 24,  25, 525,  45,  95])"
      ]
     },
     "execution_count": 3,
     "metadata": {},
     "output_type": "execute_result"
    }
   ],
   "source": [
    "# We can create a NumPy ndarray object by using the array() function.\n",
    "## To create an ndarray, we can pass a list, tuple or any array-like object into the array() method, and it will be converted into an ndarray:\n",
    "arr  = np.array([1, 2, 3, 4, 5])  ### use list to create an array\n",
    "arr2 = np.array((6, 7, 8, 9, 10)) ### Use tuple to create an array\n",
    "\n",
    "### Creating list and tuple \n",
    "l_list= [5.5,6.5,7.5,8,9]\n",
    "t_tuple= (24,25,525,45,95)\n",
    "# Similarly we can convert tuple and list using np.array\n",
    "arr3 = np.array([l_list,t_tuple] , np.int32 ) ### Creating a 2d array with data type int32\n",
    "np.array(t_tuple) "
   ]
  },
  {
   "cell_type": "code",
   "execution_count": 4,
   "id": "7abf297a",
   "metadata": {
    "execution": {
     "iopub.execute_input": "2022-01-08T22:31:56.672840Z",
     "iopub.status.busy": "2022-01-08T22:31:56.668724Z",
     "iopub.status.idle": "2022-01-08T22:31:56.676894Z",
     "shell.execute_reply": "2022-01-08T22:31:56.676175Z",
     "shell.execute_reply.started": "2022-01-08T22:31:20.387208Z"
    },
    "papermill": {
     "duration": 0.106028,
     "end_time": "2022-01-08T22:31:56.677141",
     "exception": false,
     "start_time": "2022-01-08T22:31:56.571113",
     "status": "completed"
    },
    "tags": []
   },
   "outputs": [
    {
     "name": "stdout",
     "output_type": "stream",
     "text": [
      "Array created with List:   [1 2 3 4 5]\n",
      "Array created with Tuple:  [ 6  7  8  9 10]\n",
      "2D Array created with List & Tuple: \n",
      "[[  5   6   7   8   9]\n",
      " [ 24  25 525  45  95]]\n"
     ]
    }
   ],
   "source": [
    "print('Array created with List:  ', arr)\n",
    "print('Array created with Tuple: ', arr2)\n",
    "print('2D Array created with List & Tuple: ')\n",
    "print(arr3)"
   ]
  },
  {
   "cell_type": "code",
   "execution_count": 5,
   "id": "6e796fa4",
   "metadata": {
    "execution": {
     "iopub.execute_input": "2022-01-08T22:31:56.891941Z",
     "iopub.status.busy": "2022-01-08T22:31:56.890976Z",
     "iopub.status.idle": "2022-01-08T22:31:56.898507Z",
     "shell.execute_reply": "2022-01-08T22:31:56.898938Z",
     "shell.execute_reply.started": "2022-01-08T22:31:20.409038Z"
    },
    "papermill": {
     "duration": 0.113676,
     "end_time": "2022-01-08T22:31:56.899107",
     "exception": false,
     "start_time": "2022-01-08T22:31:56.785431",
     "status": "completed"
    },
    "tags": []
   },
   "outputs": [
    {
     "name": "stdout",
     "output_type": "stream",
     "text": [
      "Type of Array created with List:   <class 'numpy.ndarray'>\n",
      "Type of Array created with Tuple:  <class 'numpy.ndarray'>\n",
      "Type of Array created with L & T:  <class 'numpy.ndarray'>\n"
     ]
    },
    {
     "data": {
      "text/plain": [
       "numpy.ndarray"
      ]
     },
     "execution_count": 5,
     "metadata": {},
     "output_type": "execute_result"
    }
   ],
   "source": [
    "## check the type of arr\n",
    "print('Type of Array created with List:  ',type(arr))\n",
    "print('Type of Array created with Tuple: ',type(arr2))\n",
    "print('Type of Array created with L & T: ',type(arr3))\n",
    "\n",
    "## type(): This built-in Python function tells us the type of the object passed to it. Like in above code it shows that arr is numpy.ndarray type.\n",
    "type(arr)"
   ]
  },
  {
   "cell_type": "code",
   "execution_count": 6,
   "id": "425e25fc",
   "metadata": {
    "execution": {
     "iopub.execute_input": "2022-01-08T22:31:57.115147Z",
     "iopub.status.busy": "2022-01-08T22:31:57.109630Z",
     "iopub.status.idle": "2022-01-08T22:31:57.120169Z",
     "shell.execute_reply": "2022-01-08T22:31:57.120990Z",
     "shell.execute_reply.started": "2022-01-08T22:31:20.423166Z"
    },
    "papermill": {
     "duration": 0.119229,
     "end_time": "2022-01-08T22:31:57.121236",
     "exception": false,
     "start_time": "2022-01-08T22:31:57.002007",
     "status": "completed"
    },
    "tags": []
   },
   "outputs": [
    {
     "name": "stdout",
     "output_type": "stream",
     "text": [
      "Dimension of List array:  1\n",
      "Shape of List array:      (5,)\n",
      "Data Type of List array:  int64\n",
      "Length of one array element in bytes (itemsize):  8 Bytes\n",
      "Total bytes consumed by the elements of the array:  40 Bytes\n",
      "Total Bytes consumed = 5 elemts *8 bytes (8 bytes as this is int 64)\n",
      "\n",
      "Dimension of 2D array:  2\n",
      "Shape of 2D array:      (2, 5)\n",
      "Data Type of 2D array:  int32\n",
      "Length of one array element in bytes (itemsize):  4 Bytes\n",
      "Total bytes consumed by the elements of the array:  40 Bytes\n",
      "Total Bytes consumed = 2*5 elemts * 4 bytes (4 bytes as this is int 32)\n"
     ]
    }
   ],
   "source": [
    "print('Dimension of List array: ',arr.ndim)   ### .ndim  Returns Number of array dimensions.\n",
    "print('Shape of List array:     ',arr.shape)  ### .shape Returns Shape of Array\n",
    "print('Data Type of List array: ',arr.dtype)  ### .dtype Returns Data Type of elements of array\n",
    "print('Length of one array element in bytes (itemsize): ', arr.itemsize, 'Bytes')\n",
    "print('Total bytes consumed by the elements of the array: ', arr.nbytes, 'Bytes')\n",
    "print('Total Bytes consumed = 5 elemts *8 bytes (8 bytes as this is int 64)')\n",
    "print()\n",
    "print('Dimension of 2D array: ',arr3.ndim)\n",
    "print('Shape of 2D array:     ',arr3.shape)\n",
    "print('Data Type of 2D array: ',arr3.dtype)\n",
    "print('Length of one array element in bytes (itemsize): ', arr3.itemsize, 'Bytes')\n",
    "print('Total bytes consumed by the elements of the array: ', arr3.nbytes, 'Bytes')\n",
    "print('Total Bytes consumed = 2*5 elemts * 4 bytes (4 bytes as this is int 32)')"
   ]
  },
  {
   "cell_type": "markdown",
   "id": "5c2f3eaf",
   "metadata": {
    "papermill": {
     "duration": 0.10459,
     "end_time": "2022-01-08T22:31:57.335261",
     "exception": false,
     "start_time": "2022-01-08T22:31:57.230671",
     "status": "completed"
    },
    "tags": []
   },
   "source": [
    "# Numpy Data Type\n",
    "\n",
    "By default Python have these data types:\n",
    "\n",
    "* strings - used to represent text data, the text is given under quote marks. e.g. \"ABCD\"\n",
    "* integer - used to represent integer numbers. e.g. -1, -2, -3\n",
    "* float - used to represent real numbers. e.g. 1.2, 42.42\n",
    "* boolean - used to represent True or False.\n",
    "* complex - used to represent complex numbers. e.g. 1.0 + 2.0j, 1.5 + 2.5j\n",
    "\n",
    "NumPy has some extra data types, and refer to data types with one character, like i for integers, u for unsigned integers etc.  \n",
    "Below is a list of all data types in NumPy and the characters used to represent them.\n",
    "\n",
    "* i - integer\n",
    "* b - boolean\n",
    "* u - unsigned integer\n",
    "* f - float\n",
    "* c - complex float\n",
    "* m - timedelta\n",
    "* M - datetime\n",
    "* O - object\n",
    "* S - string\n",
    "* U - unicode string\n",
    "* V - fixed chunk of memory for other type ( void )"
   ]
  },
  {
   "cell_type": "code",
   "execution_count": 7,
   "id": "15eaa993",
   "metadata": {
    "execution": {
     "iopub.execute_input": "2022-01-08T22:31:57.544119Z",
     "iopub.status.busy": "2022-01-08T22:31:57.543497Z",
     "iopub.status.idle": "2022-01-08T22:31:57.548069Z",
     "shell.execute_reply": "2022-01-08T22:31:57.548556Z",
     "shell.execute_reply.started": "2022-01-08T22:31:20.442640Z"
    },
    "papermill": {
     "duration": 0.111716,
     "end_time": "2022-01-08T22:31:57.548736",
     "exception": false,
     "start_time": "2022-01-08T22:31:57.437020",
     "status": "completed"
    },
    "tags": []
   },
   "outputs": [
    {
     "name": "stdout",
     "output_type": "stream",
     "text": [
      "[b'1' b'2' b'3' b'4']\n",
      "|S1\n"
     ]
    }
   ],
   "source": [
    "# dtype that allows us to define the expected data type of the array elements:\n",
    "\n",
    "arr = np.array([1, 2, 3, 4], dtype='S')\n",
    "\n",
    "print(arr)\n",
    "print(arr.dtype)"
   ]
  },
  {
   "cell_type": "code",
   "execution_count": 8,
   "id": "35c06f3a",
   "metadata": {
    "execution": {
     "iopub.execute_input": "2022-01-08T22:31:57.755263Z",
     "iopub.status.busy": "2022-01-08T22:31:57.754629Z",
     "iopub.status.idle": "2022-01-08T22:31:57.763042Z",
     "shell.execute_reply": "2022-01-08T22:31:57.762170Z",
     "shell.execute_reply.started": "2022-01-08T22:31:20.450550Z"
    },
    "papermill": {
     "duration": 0.112026,
     "end_time": "2022-01-08T22:31:57.763260",
     "exception": false,
     "start_time": "2022-01-08T22:31:57.651234",
     "status": "completed"
    },
    "tags": []
   },
   "outputs": [
    {
     "name": "stdout",
     "output_type": "stream",
     "text": [
      "[1 2 3 4]\n",
      "int16\n"
     ]
    }
   ],
   "source": [
    "arr = np.array([1, 2, 3, 4], dtype='i2') ## i:: int 32, i2:: int16, i4 :: int32 \n",
    "\n",
    "print(arr)\n",
    "print(arr.dtype)"
   ]
  },
  {
   "cell_type": "markdown",
   "id": "ac9984e3",
   "metadata": {
    "papermill": {
     "duration": 0.103585,
     "end_time": "2022-01-08T22:31:57.971460",
     "exception": false,
     "start_time": "2022-01-08T22:31:57.867875",
     "status": "completed"
    },
    "tags": []
   },
   "source": [
    "#### Converting Data Type on Existing Arrays\n",
    "The best way to change the data type of an existing array, is to make a copy of the array with the astype() method.\n",
    "\n",
    "The astype() function creates a copy of the array, and allows you to specify the data type as a parameter.\n",
    "\n",
    "The data type can be specified using a string, like 'f' for float, 'i' for integer etc. or you can use the data type directly like float for float and int for integer."
   ]
  },
  {
   "cell_type": "code",
   "execution_count": 9,
   "id": "f3ed4ce1",
   "metadata": {
    "execution": {
     "iopub.execute_input": "2022-01-08T22:31:58.174162Z",
     "iopub.status.busy": "2022-01-08T22:31:58.173584Z",
     "iopub.status.idle": "2022-01-08T22:31:58.178743Z",
     "shell.execute_reply": "2022-01-08T22:31:58.179268Z",
     "shell.execute_reply.started": "2022-01-08T22:31:20.471129Z"
    },
    "papermill": {
     "duration": 0.107803,
     "end_time": "2022-01-08T22:31:58.179435",
     "exception": false,
     "start_time": "2022-01-08T22:31:58.071632",
     "status": "completed"
    },
    "tags": []
   },
   "outputs": [
    {
     "name": "stdout",
     "output_type": "stream",
     "text": [
      "[1 2 3]\n",
      "int32\n"
     ]
    }
   ],
   "source": [
    "## Convert float to int\n",
    "arr = np.array([1.1, 2.1, 3.1])\n",
    "\n",
    "newarr = arr.astype('i')\n",
    "\n",
    "print(newarr)\n",
    "print(newarr.dtype)"
   ]
  },
  {
   "attachments": {
    "c20b8b00-f6d9-4782-b82f-57d5581e741e.PNG": {
     "image/png": "[encoded data removed]"
    }
   },
   "cell_type": "markdown",
   "id": "025b4ef2",
   "metadata": {
    "papermill": {
     "duration": 0.098428,
     "end_time": "2022-01-08T22:31:58.376114",
     "exception": false,
     "start_time": "2022-01-08T22:31:58.277686",
     "status": "completed"
    },
    "tags": []
   },
   "source": [
    "![convert array error.PNG](attachment:c20b8b00-f6d9-4782-b82f-57d5581e741e.PNG)"
   ]
  },
  {
   "cell_type": "markdown",
   "id": "29cd2a6e",
   "metadata": {
    "papermill": {
     "duration": 0.097415,
     "end_time": "2022-01-08T22:31:58.571802",
     "exception": false,
     "start_time": "2022-01-08T22:31:58.474387",
     "status": "completed"
    },
    "tags": []
   },
   "source": [
    "## Dimensions in Arrays\n",
    "* A dimension in arrays is one level of array depth (nested arrays).\n",
    "* Nested array: are arrays that have arrays as their elements."
   ]
  },
  {
   "cell_type": "code",
   "execution_count": 10,
   "id": "30d11dc4",
   "metadata": {
    "execution": {
     "iopub.execute_input": "2022-01-08T22:31:58.774231Z",
     "iopub.status.busy": "2022-01-08T22:31:58.773645Z",
     "iopub.status.idle": "2022-01-08T22:31:58.778322Z",
     "shell.execute_reply": "2022-01-08T22:31:58.778874Z",
     "shell.execute_reply.started": "2022-01-08T22:31:20.491134Z"
    },
    "papermill": {
     "duration": 0.109101,
     "end_time": "2022-01-08T22:31:58.779035",
     "exception": false,
     "start_time": "2022-01-08T22:31:58.669934",
     "status": "completed"
    },
    "tags": []
   },
   "outputs": [],
   "source": [
    "############ ~~~~~~~~~~~~~~~ 0D Array ~~~~~~~~~~~~~~~ ############\n",
    "# 0-D arrays, or Scalars, are the elements in an array. Each value in an array is a 0-D array.\n",
    "arr_0D = np.array(7)\n",
    "\n",
    "############ ~~~~~~~~~~~~~~~ 1D Array ~~~~~~~~~~~~~~~ ############\n",
    "# An array that has 0-D arrays as its elements is called uni-dimensional or 1-D array.\n",
    "arr_1D = np.array([128,256,512,1024,2048])\n",
    "\n",
    "############ ~~~~~~~~~~~~~~~ 2D Array ~~~~~~~~~~~~~~~ ############\n",
    "# An array that has 1-D arrays as its elements is called a 2-D array. These are often used to represent matrix or 2nd order tensors.\n",
    "arr_2D = np.array([[121, 144, 169], [196, 225, 256]])\n",
    "\n",
    "############ ~~~~~~~~~~~~~~~ 3D Array ~~~~~~~~~~~~~~~ ############\n",
    "# An array that has 2-D arrays (matrices) as its elements is called 3-D array. These are often used to represent a 3rd order tensor.\n",
    "arr_3D = np.array([[[1, 2, 3], [4, 5, 6]], [[1, 2, 3], [4, 5, 6]]])"
   ]
  },
  {
   "cell_type": "code",
   "execution_count": 11,
   "id": "b0bd74a3",
   "metadata": {
    "execution": {
     "iopub.execute_input": "2022-01-08T22:31:58.990702Z",
     "iopub.status.busy": "2022-01-08T22:31:58.989982Z",
     "iopub.status.idle": "2022-01-08T22:31:59.001103Z",
     "shell.execute_reply": "2022-01-08T22:31:59.000636Z",
     "shell.execute_reply.started": "2022-01-08T22:31:20.505028Z"
    },
    "papermill": {
     "duration": 0.120066,
     "end_time": "2022-01-08T22:31:59.001262",
     "exception": false,
     "start_time": "2022-01-08T22:31:58.881196",
     "status": "completed"
    },
    "tags": []
   },
   "outputs": [
    {
     "data": {
      "text/plain": [
       "array(7)"
      ]
     },
     "metadata": {},
     "output_type": "display_data"
    },
    {
     "name": "stdout",
     "output_type": "stream",
     "text": [
      "Dimension of this array 0\n",
      "\n"
     ]
    },
    {
     "data": {
      "text/plain": [
       "array([ 128,  256,  512, 1024, 2048])"
      ]
     },
     "metadata": {},
     "output_type": "display_data"
    },
    {
     "name": "stdout",
     "output_type": "stream",
     "text": [
      "Dimension of this array 1\n",
      "\n",
      "[[121 144 169]\n",
      " [196 225 256]]\n",
      "Dimension of this array 2\n",
      "\n",
      "[[[1 2 3]\n",
      "  [4 5 6]]\n",
      "\n",
      " [[1 2 3]\n",
      "  [4 5 6]]]\n",
      "Dimension of this array 3\n"
     ]
    }
   ],
   "source": [
    "display(arr_0D)\n",
    "print('Dimension of this array',arr_0D.ndim)\n",
    "print()\n",
    "display(arr_1D)\n",
    "print('Dimension of this array', arr_1D.ndim)\n",
    "print()\n",
    "print(arr_2D)\n",
    "print('Dimension of this array',arr_2D.ndim)\n",
    "print()\n",
    "print(arr_3D)\n",
    "print('Dimension of this array',arr_3D.ndim)\n",
    "\n",
    "### Observe the difference between print and display"
   ]
  },
  {
   "cell_type": "markdown",
   "id": "259d9917",
   "metadata": {
    "papermill": {
     "duration": 0.099288,
     "end_time": "2022-01-08T22:31:59.200770",
     "exception": false,
     "start_time": "2022-01-08T22:31:59.101482",
     "status": "completed"
    },
    "tags": []
   },
   "source": [
    "### Q. How would u find dimension of array by just looking at it?"
   ]
  },
  {
   "cell_type": "code",
   "execution_count": 12,
   "id": "9e698846",
   "metadata": {
    "execution": {
     "iopub.execute_input": "2022-01-08T22:31:59.404540Z",
     "iopub.status.busy": "2022-01-08T22:31:59.403557Z",
     "iopub.status.idle": "2022-01-08T22:31:59.410257Z",
     "shell.execute_reply": "2022-01-08T22:31:59.410672Z",
     "shell.execute_reply.started": "2022-01-08T22:31:20.532911Z"
    },
    "papermill": {
     "duration": 0.110946,
     "end_time": "2022-01-08T22:31:59.410833",
     "exception": false,
     "start_time": "2022-01-08T22:31:59.299887",
     "status": "completed"
    },
    "tags": []
   },
   "outputs": [
    {
     "name": "stdout",
     "output_type": "stream",
     "text": [
      "[[[[[[1 2 3 4]]]]]]\n",
      "number of dimensions : 6\n",
      "\n",
      "[[[[[[[1 2 3 4]]]]]]]\n",
      "number of dimensions : 7\n",
      "\n",
      "[[[[[[[[1 2 3 4]]]]]]]]\n",
      "number of dimensions : 8\n",
      "\n",
      "[[[[[[[[[1 2 3 4]]]]]]]]]\n",
      "number of dimensions : 9\n",
      "\n",
      "[[[[[[[[[[1 2 3 4]]]]]]]]]]\n",
      "number of dimensions : 10\n",
      "\n"
     ]
    }
   ],
   "source": [
    "for i in range(6,11):\n",
    "    arr = np.array([1, 2, 3, 4], ndmin=i)\n",
    "    print(arr)\n",
    "    print('number of dimensions :', arr.ndim)\n",
    "    print()"
   ]
  },
  {
   "cell_type": "code",
   "execution_count": 13,
   "id": "99845c98",
   "metadata": {
    "execution": {
     "iopub.execute_input": "2022-01-08T22:31:59.611027Z",
     "iopub.status.busy": "2022-01-08T22:31:59.610449Z",
     "iopub.status.idle": "2022-01-08T22:31:59.618620Z",
     "shell.execute_reply": "2022-01-08T22:31:59.619362Z",
     "shell.execute_reply.started": "2022-01-08T22:31:20.549131Z"
    },
    "papermill": {
     "duration": 0.109909,
     "end_time": "2022-01-08T22:31:59.619628",
     "exception": false,
     "start_time": "2022-01-08T22:31:59.509719",
     "status": "completed"
    },
    "tags": []
   },
   "outputs": [
    {
     "name": "stdout",
     "output_type": "stream",
     "text": [
      "[[[[[[1 2 3 4]]]]]]\n",
      "number of dimensions : 6\n",
      "\n",
      "[[[[[[[1 2 3 4]]]]]]]\n",
      "number of dimensions : 7\n",
      "\n",
      "[[[[[[[[1 2 3 4]]]]]]]]\n",
      "number of dimensions : 8\n",
      "\n",
      "[[[[[[[[[1 2 3 4]]]]]]]]]\n",
      "number of dimensions : 9\n",
      "\n",
      "[[[[[[[[[[1 2 3 4]]]]]]]]]]\n",
      "number of dimensions : 10\n",
      "\n"
     ]
    }
   ],
   "source": [
    "# now lets do same thing when we use tuple to create array\n",
    "for i in range(6,11):\n",
    "    arr = np.array((1, 2, 3, 4), ndmin=i)\n",
    "    print(arr)\n",
    "    print('number of dimensions :', arr.ndim)\n",
    "    print()"
   ]
  },
  {
   "cell_type": "markdown",
   "id": "15c738ef",
   "metadata": {
    "papermill": {
     "duration": 0.100776,
     "end_time": "2022-01-08T22:31:59.822017",
     "exception": false,
     "start_time": "2022-01-08T22:31:59.721241",
     "status": "completed"
    },
    "tags": []
   },
   "source": [
    "Did u get it???  \n",
    "* By counting the no of brackets\n",
    "* Also even if u use tuple array will use Square bracket only "
   ]
  },
  {
   "cell_type": "markdown",
   "id": "76636c01",
   "metadata": {
    "papermill": {
     "duration": 0.102012,
     "end_time": "2022-01-08T22:32:00.026452",
     "exception": false,
     "start_time": "2022-01-08T22:31:59.924440",
     "status": "completed"
    },
    "tags": []
   },
   "source": [
    "### Other methods to create numpy arrays"
   ]
  },
  {
   "cell_type": "code",
   "execution_count": 14,
   "id": "76653d08",
   "metadata": {
    "execution": {
     "iopub.execute_input": "2022-01-08T22:32:00.231925Z",
     "iopub.status.busy": "2022-01-08T22:32:00.231296Z",
     "iopub.status.idle": "2022-01-08T22:32:00.234758Z",
     "shell.execute_reply": "2022-01-08T22:32:00.235269Z",
     "shell.execute_reply.started": "2022-01-08T22:31:20.568297Z"
    },
    "papermill": {
     "duration": 0.108816,
     "end_time": "2022-01-08T22:32:00.235437",
     "exception": false,
     "start_time": "2022-01-08T22:32:00.126621",
     "status": "completed"
    },
    "tags": []
   },
   "outputs": [
    {
     "data": {
      "text/plain": [
       "array([ 1,  2,  3,  4,  5,  6,  7,  8,  9, 10])"
      ]
     },
     "execution_count": 14,
     "metadata": {},
     "output_type": "execute_result"
    }
   ],
   "source": [
    "### Arrange certain no in an array\n",
    "np.arange(1,11)"
   ]
  },
  {
   "cell_type": "code",
   "execution_count": 15,
   "id": "168986fb",
   "metadata": {
    "execution": {
     "iopub.execute_input": "2022-01-08T22:32:00.470663Z",
     "iopub.status.busy": "2022-01-08T22:32:00.469833Z",
     "iopub.status.idle": "2022-01-08T22:32:00.476449Z",
     "shell.execute_reply": "2022-01-08T22:32:00.476931Z",
     "shell.execute_reply.started": "2022-01-08T22:31:20.582694Z"
    },
    "papermill": {
     "duration": 0.111116,
     "end_time": "2022-01-08T22:32:00.477097",
     "exception": false,
     "start_time": "2022-01-08T22:32:00.365981",
     "status": "completed"
    },
    "tags": []
   },
   "outputs": [
    {
     "data": {
      "text/plain": [
       "array([[0., 0.],\n",
       "       [0., 0.],\n",
       "       [0., 0.]])"
      ]
     },
     "execution_count": 15,
     "metadata": {},
     "output_type": "execute_result"
    }
   ],
   "source": [
    "# All zeros\n",
    "np.zeros((3, 2))"
   ]
  },
  {
   "cell_type": "code",
   "execution_count": 16,
   "id": "3571c8f0",
   "metadata": {
    "execution": {
     "iopub.execute_input": "2022-01-08T22:32:00.681186Z",
     "iopub.status.busy": "2022-01-08T22:32:00.680616Z",
     "iopub.status.idle": "2022-01-08T22:32:00.685129Z",
     "shell.execute_reply": "2022-01-08T22:32:00.685639Z",
     "shell.execute_reply.started": "2022-01-08T22:31:20.595992Z"
    },
    "papermill": {
     "duration": 0.108135,
     "end_time": "2022-01-08T22:32:00.685797",
     "exception": false,
     "start_time": "2022-01-08T22:32:00.577662",
     "status": "completed"
    },
    "tags": []
   },
   "outputs": [
    {
     "data": {
      "text/plain": [
       "array([[[1., 1., 1.],\n",
       "        [1., 1., 1.]],\n",
       "\n",
       "       [[1., 1., 1.],\n",
       "        [1., 1., 1.]]])"
      ]
     },
     "execution_count": 16,
     "metadata": {},
     "output_type": "execute_result"
    }
   ],
   "source": [
    "# All ones\n",
    "np.ones([2, 2, 3])"
   ]
  },
  {
   "cell_type": "code",
   "execution_count": 17,
   "id": "6863a5f8",
   "metadata": {
    "execution": {
     "iopub.execute_input": "2022-01-08T22:32:00.891425Z",
     "iopub.status.busy": "2022-01-08T22:32:00.888606Z",
     "iopub.status.idle": "2022-01-08T22:32:00.894745Z",
     "shell.execute_reply": "2022-01-08T22:32:00.894161Z",
     "shell.execute_reply.started": "2022-01-08T22:31:20.614819Z"
    },
    "papermill": {
     "duration": 0.107495,
     "end_time": "2022-01-08T22:32:00.894882",
     "exception": false,
     "start_time": "2022-01-08T22:32:00.787387",
     "status": "completed"
    },
    "tags": []
   },
   "outputs": [
    {
     "data": {
      "text/plain": [
       "array([[1., 0., 0.],\n",
       "       [0., 1., 0.],\n",
       "       [0., 0., 1.]])"
      ]
     },
     "execution_count": 17,
     "metadata": {},
     "output_type": "execute_result"
    }
   ],
   "source": [
    "# Identity matrix\n",
    "np.eye(3)"
   ]
  },
  {
   "cell_type": "code",
   "execution_count": 18,
   "id": "209bbf2f",
   "metadata": {
    "execution": {
     "iopub.execute_input": "2022-01-08T22:32:01.099500Z",
     "iopub.status.busy": "2022-01-08T22:32:01.098551Z",
     "iopub.status.idle": "2022-01-08T22:32:01.103817Z",
     "shell.execute_reply": "2022-01-08T22:32:01.104384Z",
     "shell.execute_reply.started": "2022-01-08T22:31:20.628527Z"
    },
    "papermill": {
     "duration": 0.109851,
     "end_time": "2022-01-08T22:32:01.104545",
     "exception": false,
     "start_time": "2022-01-08T22:32:00.994694",
     "status": "completed"
    },
    "tags": []
   },
   "outputs": [
    {
     "data": {
      "text/plain": [
       "array([0.56641812, 0.29004268, 0.45181227, 0.54744434, 0.91430507])"
      ]
     },
     "execution_count": 18,
     "metadata": {},
     "output_type": "execute_result"
    }
   ],
   "source": [
    "# Random vector\n",
    "np.random.rand(5)"
   ]
  },
  {
   "cell_type": "code",
   "execution_count": 19,
   "id": "e5d75cec",
   "metadata": {
    "execution": {
     "iopub.execute_input": "2022-01-08T22:32:01.309117Z",
     "iopub.status.busy": "2022-01-08T22:32:01.308142Z",
     "iopub.status.idle": "2022-01-08T22:32:01.313825Z",
     "shell.execute_reply": "2022-01-08T22:32:01.314401Z",
     "shell.execute_reply.started": "2022-01-08T22:31:20.642449Z"
    },
    "papermill": {
     "duration": 0.110739,
     "end_time": "2022-01-08T22:32:01.314568",
     "exception": false,
     "start_time": "2022-01-08T22:32:01.203829",
     "status": "completed"
    },
    "tags": []
   },
   "outputs": [
    {
     "data": {
      "text/plain": [
       "array([[ 1.30648689, -0.01662875, -0.40266984],\n",
       "       [-0.05074404, -1.2276851 ,  0.7470127 ]])"
      ]
     },
     "execution_count": 19,
     "metadata": {},
     "output_type": "execute_result"
    }
   ],
   "source": [
    "# Random matrix\n",
    "np.random.randn(2, 3) # rand vs. randn - what's the difference?"
   ]
  },
  {
   "cell_type": "code",
   "execution_count": 20,
   "id": "d835cd1b",
   "metadata": {
    "execution": {
     "iopub.execute_input": "2022-01-08T22:32:01.521128Z",
     "iopub.status.busy": "2022-01-08T22:32:01.520197Z",
     "iopub.status.idle": "2022-01-08T22:32:01.523811Z",
     "shell.execute_reply": "2022-01-08T22:32:01.524336Z",
     "shell.execute_reply.started": "2022-01-08T22:31:20.658052Z"
    },
    "papermill": {
     "duration": 0.109824,
     "end_time": "2022-01-08T22:32:01.524495",
     "exception": false,
     "start_time": "2022-01-08T22:32:01.414671",
     "status": "completed"
    },
    "tags": []
   },
   "outputs": [
    {
     "data": {
      "text/plain": [
       "array([[42, 42, 42],\n",
       "       [42, 42, 42]])"
      ]
     },
     "execution_count": 20,
     "metadata": {},
     "output_type": "execute_result"
    }
   ],
   "source": [
    "# Fixed value\n",
    "np.full([2, 3], 42)"
   ]
  },
  {
   "cell_type": "code",
   "execution_count": 21,
   "id": "84ecb428",
   "metadata": {
    "execution": {
     "iopub.execute_input": "2022-01-08T22:32:01.729723Z",
     "iopub.status.busy": "2022-01-08T22:32:01.728795Z",
     "iopub.status.idle": "2022-01-08T22:32:01.733732Z",
     "shell.execute_reply": "2022-01-08T22:32:01.734262Z",
     "shell.execute_reply.started": "2022-01-08T22:31:20.672272Z"
    },
    "papermill": {
     "duration": 0.109636,
     "end_time": "2022-01-08T22:32:01.734427",
     "exception": false,
     "start_time": "2022-01-08T22:32:01.624791",
     "status": "completed"
    },
    "tags": []
   },
   "outputs": [
    {
     "data": {
      "text/plain": [
       "array([10, 13, 16, 19, 22, 25, 28, 31, 34, 37, 40, 43, 46, 49, 52, 55, 58,\n",
       "       61, 64, 67, 70, 73, 76, 79, 82, 85, 88])"
      ]
     },
     "execution_count": 21,
     "metadata": {},
     "output_type": "execute_result"
    }
   ],
   "source": [
    "# Range with start, end and step\n",
    "np.arange(10, 90, 3)"
   ]
  },
  {
   "cell_type": "code",
   "execution_count": 22,
   "id": "4b435b6f",
   "metadata": {
    "execution": {
     "iopub.execute_input": "2022-01-08T22:32:01.940174Z",
     "iopub.status.busy": "2022-01-08T22:32:01.939192Z",
     "iopub.status.idle": "2022-01-08T22:32:01.944799Z",
     "shell.execute_reply": "2022-01-08T22:32:01.945387Z",
     "shell.execute_reply.started": "2022-01-08T22:31:20.683778Z"
    },
    "papermill": {
     "duration": 0.111372,
     "end_time": "2022-01-08T22:32:01.945554",
     "exception": false,
     "start_time": "2022-01-08T22:32:01.834182",
     "status": "completed"
    },
    "tags": []
   },
   "outputs": [
    {
     "data": {
      "text/plain": [
       "array([ 3.,  6.,  9., 12., 15., 18., 21., 24., 27.])"
      ]
     },
     "execution_count": 22,
     "metadata": {},
     "output_type": "execute_result"
    }
   ],
   "source": [
    "# Equally spaced numbers in a range\n",
    "np.linspace(3, 27, 9)"
   ]
  },
  {
   "cell_type": "markdown",
   "id": "5fdac61a",
   "metadata": {
    "papermill": {
     "duration": 0.102071,
     "end_time": "2022-01-08T22:32:02.150302",
     "exception": false,
     "start_time": "2022-01-08T22:32:02.048231",
     "status": "completed"
    },
    "tags": []
   },
   "source": [
    "# Operating on Numpy arrays\n",
    "\n",
    "We can now compute the dot product of the two vectors using the `np.dot` function."
   ]
  },
  {
   "cell_type": "code",
   "execution_count": 23,
   "id": "67c776f3",
   "metadata": {
    "execution": {
     "iopub.execute_input": "2022-01-08T22:32:02.359742Z",
     "iopub.status.busy": "2022-01-08T22:32:02.358790Z",
     "iopub.status.idle": "2022-01-08T22:32:02.360933Z",
     "shell.execute_reply": "2022-01-08T22:32:02.361386Z",
     "shell.execute_reply.started": "2022-01-08T22:31:20.696545Z"
    },
    "papermill": {
     "duration": 0.109563,
     "end_time": "2022-01-08T22:32:02.361568",
     "exception": false,
     "start_time": "2022-01-08T22:32:02.252005",
     "status": "completed"
    },
    "tags": []
   },
   "outputs": [],
   "source": [
    "arr1 = np.array([1, 2, 3])\n",
    "arr2 = np.array([4, 5, 6])\n",
    "arr3 = np.array([[1, 2, 3, 4], \n",
    "                 [5, 6, 7, 8], \n",
    "                 [9, 10, 11, 12]])"
   ]
  },
  {
   "cell_type": "markdown",
   "id": "6b4bc8d6",
   "metadata": {
    "papermill": {
     "duration": 0.100924,
     "end_time": "2022-01-08T22:32:02.563472",
     "exception": false,
     "start_time": "2022-01-08T22:32:02.462548",
     "status": "completed"
    },
    "tags": []
   },
   "source": [
    "#### ADD SUB"
   ]
  },
  {
   "cell_type": "code",
   "execution_count": 24,
   "id": "3d3e32ae",
   "metadata": {
    "execution": {
     "iopub.execute_input": "2022-01-08T22:32:02.770095Z",
     "iopub.status.busy": "2022-01-08T22:32:02.769152Z",
     "iopub.status.idle": "2022-01-08T22:32:02.774278Z",
     "shell.execute_reply": "2022-01-08T22:32:02.774682Z",
     "shell.execute_reply.started": "2022-01-08T22:31:20.706149Z"
    },
    "papermill": {
     "duration": 0.11033,
     "end_time": "2022-01-08T22:32:02.774851",
     "exception": false,
     "start_time": "2022-01-08T22:32:02.664521",
     "status": "completed"
    },
    "tags": []
   },
   "outputs": [
    {
     "data": {
      "text/plain": [
       "array([5, 7, 9])"
      ]
     },
     "execution_count": 24,
     "metadata": {},
     "output_type": "execute_result"
    }
   ],
   "source": [
    "arr1 + arr2"
   ]
  },
  {
   "attachments": {
    "7f5e37e4-c126-41a6-a472-278718bf29fc.PNG": {
     "image/png": "[encoded data removed]"
    }
   },
   "cell_type": "markdown",
   "id": "76316ed4",
   "metadata": {
    "execution": {
     "iopub.execute_input": "2022-01-08T16:11:37.312891Z",
     "iopub.status.busy": "2022-01-08T16:11:37.312612Z",
     "iopub.status.idle": "2022-01-08T16:11:37.329248Z",
     "shell.execute_reply": "2022-01-08T16:11:37.328252Z",
     "shell.execute_reply.started": "2022-01-08T16:11:37.312865Z"
    },
    "papermill": {
     "duration": 0.101286,
     "end_time": "2022-01-08T22:32:02.977653",
     "exception": false,
     "start_time": "2022-01-08T22:32:02.876367",
     "status": "completed"
    },
    "tags": []
   },
   "source": [
    "```python\n",
    "arr2 + arr3\n",
    "```\n",
    "\n",
    "**We can't add matrix with different dimension nor can we substract** We need to use broadcasting  \n",
    "![error matrix addition.PNG](attachment:7f5e37e4-c126-41a6-a472-278718bf29fc.PNG)"
   ]
  },
  {
   "cell_type": "code",
   "execution_count": 25,
   "id": "74461d4e",
   "metadata": {
    "execution": {
     "iopub.execute_input": "2022-01-08T22:32:03.186762Z",
     "iopub.status.busy": "2022-01-08T22:32:03.185775Z",
     "iopub.status.idle": "2022-01-08T22:32:03.190989Z",
     "shell.execute_reply": "2022-01-08T22:32:03.191534Z",
     "shell.execute_reply.started": "2022-01-08T22:31:20.722784Z"
    },
    "papermill": {
     "duration": 0.111024,
     "end_time": "2022-01-08T22:32:03.191695",
     "exception": false,
     "start_time": "2022-01-08T22:32:03.080671",
     "status": "completed"
    },
    "tags": []
   },
   "outputs": [
    {
     "data": {
      "text/plain": [
       "array([11, 12, 13])"
      ]
     },
     "execution_count": 25,
     "metadata": {},
     "output_type": "execute_result"
    }
   ],
   "source": [
    "arr2 + 7 ### awhat happen when we add a no (or scaler) to array"
   ]
  },
  {
   "cell_type": "code",
   "execution_count": 26,
   "id": "f197dbbc",
   "metadata": {
    "execution": {
     "iopub.execute_input": "2022-01-08T22:32:03.400411Z",
     "iopub.status.busy": "2022-01-08T22:32:03.399682Z",
     "iopub.status.idle": "2022-01-08T22:32:03.402564Z",
     "shell.execute_reply": "2022-01-08T22:32:03.402998Z",
     "shell.execute_reply.started": "2022-01-08T22:31:20.740499Z"
    },
    "papermill": {
     "duration": 0.109887,
     "end_time": "2022-01-08T22:32:03.403150",
     "exception": false,
     "start_time": "2022-01-08T22:32:03.293263",
     "status": "completed"
    },
    "tags": []
   },
   "outputs": [
    {
     "data": {
      "text/plain": [
       "array([[-2, -1,  0,  1],\n",
       "       [ 2,  3,  4,  5],\n",
       "       [ 6,  7,  8,  9]])"
      ]
     },
     "execution_count": 26,
     "metadata": {},
     "output_type": "execute_result"
    }
   ],
   "source": [
    "arr3 - 3"
   ]
  },
  {
   "cell_type": "markdown",
   "id": "d8fabdca",
   "metadata": {
    "papermill": {
     "duration": 0.101979,
     "end_time": "2022-01-08T22:32:03.606413",
     "exception": false,
     "start_time": "2022-01-08T22:32:03.504434",
     "status": "completed"
    },
    "tags": []
   },
   "source": [
    "#### Multiplication & Divide\n",
    "1. np.dot() : numpy.dot(vector_a, vector_b, out = None) returns the dot product of vectors a and b. It can handle 2D arrays but considers them as matrix and will perform matrix multiplication. For N dimensions it is a sum-product over the last axis of a and the second-to-last of b :\n",
    "        + vector_a : [array_like] if a is complex its complex conjugate is used for the calculation of the dot product. \n",
    "        + vector_b : [array_like] if b is complex its complex conjugate is used for the calculation of the dot product. \n",
    "        + out : [array, optional] output argument must be C-contiguous, and its dtype must be the dtype that would be returned for dot(a,b). \n",
    "        + Return: **Dot Product of vectors a and b. if vector_a and vector_b are 1D, then scalar is returned**"
   ]
  },
  {
   "cell_type": "code",
   "execution_count": 27,
   "id": "371f0de7",
   "metadata": {
    "execution": {
     "iopub.execute_input": "2022-01-08T22:32:03.819576Z",
     "iopub.status.busy": "2022-01-08T22:32:03.818768Z",
     "iopub.status.idle": "2022-01-08T22:32:03.821809Z",
     "shell.execute_reply": "2022-01-08T22:32:03.822261Z",
     "shell.execute_reply.started": "2022-01-08T22:31:20.756123Z"
    },
    "papermill": {
     "duration": 0.111253,
     "end_time": "2022-01-08T22:32:03.822423",
     "exception": false,
     "start_time": "2022-01-08T22:32:03.711170",
     "status": "completed"
    },
    "tags": []
   },
   "outputs": [
    {
     "data": {
      "text/plain": [
       "array([[0.2, 0.4, 0.6, 0.8],\n",
       "       [1. , 1.2, 1.4, 1.6],\n",
       "       [1.8, 2. , 2.2, 2.4]])"
      ]
     },
     "execution_count": 27,
     "metadata": {},
     "output_type": "execute_result"
    }
   ],
   "source": [
    "### Division by Scaler\n",
    "arr3/5"
   ]
  },
  {
   "cell_type": "code",
   "execution_count": 28,
   "id": "59cda873",
   "metadata": {
    "execution": {
     "iopub.execute_input": "2022-01-08T22:32:04.041411Z",
     "iopub.status.busy": "2022-01-08T22:32:04.040461Z",
     "iopub.status.idle": "2022-01-08T22:32:04.046045Z",
     "shell.execute_reply": "2022-01-08T22:32:04.046589Z",
     "shell.execute_reply.started": "2022-01-08T22:31:20.775979Z"
    },
    "papermill": {
     "duration": 0.113682,
     "end_time": "2022-01-08T22:32:04.046762",
     "exception": false,
     "start_time": "2022-01-08T22:32:03.933080",
     "status": "completed"
    },
    "tags": []
   },
   "outputs": [
    {
     "data": {
      "text/plain": [
       "array([0, 1, 0])"
      ]
     },
     "execution_count": 28,
     "metadata": {},
     "output_type": "execute_result"
    }
   ],
   "source": [
    "arr2%2  ## using modulus function"
   ]
  },
  {
   "cell_type": "code",
   "execution_count": 29,
   "id": "97363f32",
   "metadata": {
    "execution": {
     "iopub.execute_input": "2022-01-08T22:32:04.258449Z",
     "iopub.status.busy": "2022-01-08T22:32:04.257519Z",
     "iopub.status.idle": "2022-01-08T22:32:04.262738Z",
     "shell.execute_reply": "2022-01-08T22:32:04.263277Z",
     "shell.execute_reply.started": "2022-01-08T22:31:20.791865Z"
    },
    "papermill": {
     "duration": 0.112412,
     "end_time": "2022-01-08T22:32:04.263441",
     "exception": false,
     "start_time": "2022-01-08T22:32:04.151029",
     "status": "completed"
    },
    "tags": []
   },
   "outputs": [
    {
     "data": {
      "text/plain": [
       "array([ 4, 10, 18])"
      ]
     },
     "execution_count": 29,
     "metadata": {},
     "output_type": "execute_result"
    }
   ],
   "source": [
    "### Using * to multiply 2 array\n",
    "arr1*arr2"
   ]
  },
  {
   "cell_type": "code",
   "execution_count": 30,
   "id": "c5a90c8a",
   "metadata": {
    "execution": {
     "iopub.execute_input": "2022-01-08T22:32:04.472150Z",
     "iopub.status.busy": "2022-01-08T22:32:04.471197Z",
     "iopub.status.idle": "2022-01-08T22:32:04.476471Z",
     "shell.execute_reply": "2022-01-08T22:32:04.477010Z",
     "shell.execute_reply.started": "2022-01-08T22:31:20.805117Z"
    },
    "papermill": {
     "duration": 0.111159,
     "end_time": "2022-01-08T22:32:04.477173",
     "exception": false,
     "start_time": "2022-01-08T22:32:04.366014",
     "status": "completed"
    },
    "tags": []
   },
   "outputs": [
    {
     "data": {
      "text/plain": [
       "32"
      ]
     },
     "execution_count": 30,
     "metadata": {},
     "output_type": "execute_result"
    }
   ],
   "source": [
    "np.dot(arr1, arr2)"
   ]
  },
  {
   "cell_type": "code",
   "execution_count": 31,
   "id": "051924f9",
   "metadata": {
    "execution": {
     "iopub.execute_input": "2022-01-08T22:32:04.685157Z",
     "iopub.status.busy": "2022-01-08T22:32:04.684254Z",
     "iopub.status.idle": "2022-01-08T22:32:04.689383Z",
     "shell.execute_reply": "2022-01-08T22:32:04.689908Z",
     "shell.execute_reply.started": "2022-01-08T22:31:20.818436Z"
    },
    "papermill": {
     "duration": 0.110901,
     "end_time": "2022-01-08T22:32:04.690070",
     "exception": false,
     "start_time": "2022-01-08T22:32:04.579169",
     "status": "completed"
    },
    "tags": []
   },
   "outputs": [
    {
     "data": {
      "text/plain": [
       "32"
      ]
     },
     "execution_count": 31,
     "metadata": {},
     "output_type": "execute_result"
    }
   ],
   "source": [
    "## We can use the np.matmul function or the @ operator to perform matrix multiplication.\n",
    "np.matmul(arr1, arr2)"
   ]
  },
  {
   "cell_type": "markdown",
   "id": "6f7c90ef",
   "metadata": {
    "papermill": {
     "duration": 0.103005,
     "end_time": "2022-01-08T22:32:04.895611",
     "exception": false,
     "start_time": "2022-01-08T22:32:04.792606",
     "status": "completed"
    },
    "tags": []
   },
   "source": [
    "## np.dot() VS np.mutmul()\n",
    "In Python, arrays are treated as vectors. 2-D arrays are also called matrices. We have functions available to carry out multiplication between them in Python. The two methods used are the numpy.dot() function and the @ operator (the array’s __matmul__ method). Now it may seem that they both perform the same function of multiplication. However, there is some difference between both of them, which is explained in this tutorial.\n",
    "The numpy.dot() function is used for performing matrix multiplication in Python. It also checks the condition for matrix multiplication, that is, the number of columns of the first matrix must be equal to the number of the rows of the second. It works with multi-dimensional arrays also. We can also specify an alternate array as a parameter to store the result. The @ operator for multiplication invokes the matmul() function of an array that is used to perform the same multiplication"
   ]
  },
  {
   "cell_type": "markdown",
   "id": "cb9a3005",
   "metadata": {
    "papermill": {
     "duration": 0.104606,
     "end_time": "2022-01-08T22:32:05.102692",
     "exception": false,
     "start_time": "2022-01-08T22:32:04.998086",
     "status": "completed"
    },
    "tags": []
   },
   "source": [
    "# Array Broadcasting\n",
    "\n",
    "Numpy arrays also support *broadcasting*, allowing arithmetic operations between two arrays with different numbers of dimensions but compatible shapes. Let's look at an example to see how it works."
   ]
  },
  {
   "cell_type": "code",
   "execution_count": 32,
   "id": "b47fbfa2",
   "metadata": {
    "execution": {
     "iopub.execute_input": "2022-01-08T22:32:05.313798Z",
     "iopub.status.busy": "2022-01-08T22:32:05.313152Z",
     "iopub.status.idle": "2022-01-08T22:32:05.316902Z",
     "shell.execute_reply": "2022-01-08T22:32:05.317441Z",
     "shell.execute_reply.started": "2022-01-08T22:31:20.830076Z"
    },
    "papermill": {
     "duration": 0.110317,
     "end_time": "2022-01-08T22:32:05.317643",
     "exception": false,
     "start_time": "2022-01-08T22:32:05.207326",
     "status": "completed"
    },
    "tags": []
   },
   "outputs": [],
   "source": [
    "arr2 = np.array([[1, 2, 3, 4], \n",
    "                 [5, 6, 7, 8], \n",
    "                 [9, 1, 2, 3]])"
   ]
  },
  {
   "cell_type": "code",
   "execution_count": 33,
   "id": "510ca25d",
   "metadata": {
    "execution": {
     "iopub.execute_input": "2022-01-08T22:32:05.537553Z",
     "iopub.status.busy": "2022-01-08T22:32:05.536962Z",
     "iopub.status.idle": "2022-01-08T22:32:05.541236Z",
     "shell.execute_reply": "2022-01-08T22:32:05.541719Z",
     "shell.execute_reply.started": "2022-01-08T22:31:20.843495Z"
    },
    "papermill": {
     "duration": 0.109772,
     "end_time": "2022-01-08T22:32:05.541874",
     "exception": false,
     "start_time": "2022-01-08T22:32:05.432102",
     "status": "completed"
    },
    "tags": []
   },
   "outputs": [
    {
     "data": {
      "text/plain": [
       "(3, 4)"
      ]
     },
     "execution_count": 33,
     "metadata": {},
     "output_type": "execute_result"
    }
   ],
   "source": [
    "arr2.shape"
   ]
  },
  {
   "cell_type": "code",
   "execution_count": 34,
   "id": "c1194940",
   "metadata": {
    "execution": {
     "iopub.execute_input": "2022-01-08T22:32:05.751780Z",
     "iopub.status.busy": "2022-01-08T22:32:05.750870Z",
     "iopub.status.idle": "2022-01-08T22:32:05.754441Z",
     "shell.execute_reply": "2022-01-08T22:32:05.754835Z",
     "shell.execute_reply.started": "2022-01-08T22:31:20.859010Z"
    },
    "papermill": {
     "duration": 0.110316,
     "end_time": "2022-01-08T22:32:05.755000",
     "exception": false,
     "start_time": "2022-01-08T22:32:05.644684",
     "status": "completed"
    },
    "tags": []
   },
   "outputs": [],
   "source": [
    "arr4 = np.array([4, 5, 6, 7])"
   ]
  },
  {
   "cell_type": "code",
   "execution_count": 35,
   "id": "c2b1d489",
   "metadata": {
    "execution": {
     "iopub.execute_input": "2022-01-08T22:32:05.968551Z",
     "iopub.status.busy": "2022-01-08T22:32:05.967916Z",
     "iopub.status.idle": "2022-01-08T22:32:05.970591Z",
     "shell.execute_reply": "2022-01-08T22:32:05.971025Z",
     "shell.execute_reply.started": "2022-01-08T22:31:20.871952Z"
    },
    "papermill": {
     "duration": 0.111063,
     "end_time": "2022-01-08T22:32:05.971180",
     "exception": false,
     "start_time": "2022-01-08T22:32:05.860117",
     "status": "completed"
    },
    "tags": []
   },
   "outputs": [
    {
     "data": {
      "text/plain": [
       "(4,)"
      ]
     },
     "execution_count": 35,
     "metadata": {},
     "output_type": "execute_result"
    }
   ],
   "source": [
    "arr4.shape"
   ]
  },
  {
   "cell_type": "code",
   "execution_count": 36,
   "id": "55f1a540",
   "metadata": {
    "execution": {
     "iopub.execute_input": "2022-01-08T22:32:06.187447Z",
     "iopub.status.busy": "2022-01-08T22:32:06.185057Z",
     "iopub.status.idle": "2022-01-08T22:32:06.190261Z",
     "shell.execute_reply": "2022-01-08T22:32:06.190690Z",
     "shell.execute_reply.started": "2022-01-08T22:31:20.885568Z"
    },
    "papermill": {
     "duration": 0.113826,
     "end_time": "2022-01-08T22:32:06.190843",
     "exception": false,
     "start_time": "2022-01-08T22:32:06.077017",
     "status": "completed"
    },
    "tags": []
   },
   "outputs": [
    {
     "data": {
      "text/plain": [
       "array([[ 5,  7,  9, 11],\n",
       "       [ 9, 11, 13, 15],\n",
       "       [13,  6,  8, 10]])"
      ]
     },
     "execution_count": 36,
     "metadata": {},
     "output_type": "execute_result"
    }
   ],
   "source": [
    "arr2 + arr4"
   ]
  },
  {
   "cell_type": "markdown",
   "id": "884377ed",
   "metadata": {
    "papermill": {
     "duration": 0.10429,
     "end_time": "2022-01-08T22:32:06.400394",
     "exception": false,
     "start_time": "2022-01-08T22:32:06.296104",
     "status": "completed"
    },
    "tags": []
   },
   "source": [
    "When the expression `arr2 + arr4` is evaluated, `arr4` (which has the shape `(4,)`) is replicated three times to match the shape `(3, 4)` of `arr2`. Numpy performs the replication without actually creating three copies of the smaller dimension array, thus improving performance and using lower memory.\n",
    "\n",
    "<img src=\"https://jakevdp.github.io/PythonDataScienceHandbook/figures/02.05-broadcasting.png\" width=\"360\">\n",
    "\n",
    "Broadcasting only works if one of the arrays can be replicated to match the other array's shape."
   ]
  },
  {
   "cell_type": "code",
   "execution_count": 37,
   "id": "18ec3cd8",
   "metadata": {
    "execution": {
     "iopub.execute_input": "2022-01-08T22:32:06.612929Z",
     "iopub.status.busy": "2022-01-08T22:32:06.611643Z",
     "iopub.status.idle": "2022-01-08T22:32:06.615395Z",
     "shell.execute_reply": "2022-01-08T22:32:06.615812Z",
     "shell.execute_reply.started": "2022-01-08T22:31:20.899136Z"
    },
    "papermill": {
     "duration": 0.111439,
     "end_time": "2022-01-08T22:32:06.615977",
     "exception": false,
     "start_time": "2022-01-08T22:32:06.504538",
     "status": "completed"
    },
    "tags": []
   },
   "outputs": [],
   "source": [
    "arr5 = np.array([7, 8])"
   ]
  },
  {
   "cell_type": "code",
   "execution_count": 38,
   "id": "9964a353",
   "metadata": {
    "execution": {
     "iopub.execute_input": "2022-01-08T22:32:06.830167Z",
     "iopub.status.busy": "2022-01-08T22:32:06.829334Z",
     "iopub.status.idle": "2022-01-08T22:32:06.832444Z",
     "shell.execute_reply": "2022-01-08T22:32:06.832831Z",
     "shell.execute_reply.started": "2022-01-08T22:31:20.911196Z"
    },
    "papermill": {
     "duration": 0.112129,
     "end_time": "2022-01-08T22:32:06.832990",
     "exception": false,
     "start_time": "2022-01-08T22:32:06.720861",
     "status": "completed"
    },
    "tags": []
   },
   "outputs": [
    {
     "data": {
      "text/plain": [
       "(2,)"
      ]
     },
     "execution_count": 38,
     "metadata": {},
     "output_type": "execute_result"
    }
   ],
   "source": [
    "arr5.shape"
   ]
  },
  {
   "cell_type": "markdown",
   "id": "92ffe912",
   "metadata": {
    "papermill": {
     "duration": 0.106018,
     "end_time": "2022-01-08T22:32:07.079645",
     "exception": false,
     "start_time": "2022-01-08T22:32:06.973627",
     "status": "completed"
    },
    "tags": []
   },
   "source": [
    "## Reshape numpy array\n",
    "1. reshape() function : This gives new shape to array **without changing it's data** \n",
    "> syntax: np.reshape(`array, shape, order`) or arrayname.reshape(`shape, order`)  \n",
    "> returns: ndaarry with mentioned shape , Returned ndarray elements may be copy od the original elements or view of original array elements.\n",
    "2. resize() function : This will change the **Data of array** , Thus we can mention any `size, shape` it will resize the array according to that shape\n",
    "> numpy.resize(`arrayname, shape`)     \n",
    "\n",
    ">It will return a ndarray: The new array is formed from the data in the old array, repeated if required to fillout the element of required elements. ***Data is repeated in order they are stored in a memory***"
   ]
  },
  {
   "cell_type": "code",
   "execution_count": 39,
   "id": "5449f979",
   "metadata": {
    "execution": {
     "iopub.execute_input": "2022-01-08T22:32:07.298514Z",
     "iopub.status.busy": "2022-01-08T22:32:07.297538Z",
     "iopub.status.idle": "2022-01-08T22:32:07.301962Z",
     "shell.execute_reply": "2022-01-08T22:32:07.301486Z",
     "shell.execute_reply.started": "2022-01-08T22:31:20.928608Z"
    },
    "papermill": {
     "duration": 0.116118,
     "end_time": "2022-01-08T22:32:07.302094",
     "exception": false,
     "start_time": "2022-01-08T22:32:07.185976",
     "status": "completed"
    },
    "tags": []
   },
   "outputs": [
    {
     "name": "stdout",
     "output_type": "stream",
     "text": [
      "Reshaping 1D array to 2D array\n",
      "[[ 1  2  3]\n",
      " [ 4  5  6]\n",
      " [ 7  8  9]\n",
      " [10 11 12]]\n",
      "\n",
      "Reshaping 1D array to 3D array\n",
      "[[[ 1  2  3]\n",
      "  [ 4  5  6]]\n",
      "\n",
      " [[ 7  8  9]\n",
      "  [10 11 12]]]\n"
     ]
    }
   ],
   "source": [
    "### Reshape function\n",
    "\n",
    "a = np.array([1, 2, 3, 4, 5, 6, 7, 8, 9, 10, 11, 12])\n",
    "a_original= a.copy()   ### Creating a copy\n",
    "\n",
    "a1 = a.reshape(4, 3)\n",
    "print(\"Reshaping 1D array to 2D array\")\n",
    "print(a1)\n",
    "print()\n",
    "\n",
    "a2 = a.reshape(2,2,3)\n",
    "print(\"Reshaping 1D array to 3D array\")\n",
    "print(a2)\n"
   ]
  },
  {
   "cell_type": "code",
   "execution_count": 40,
   "id": "676a5038",
   "metadata": {
    "execution": {
     "iopub.execute_input": "2022-01-08T22:32:07.516211Z",
     "iopub.status.busy": "2022-01-08T22:32:07.515663Z",
     "iopub.status.idle": "2022-01-08T22:32:07.521593Z",
     "shell.execute_reply": "2022-01-08T22:32:07.522077Z",
     "shell.execute_reply.started": "2022-01-08T22:31:20.940957Z"
    },
    "papermill": {
     "duration": 0.115273,
     "end_time": "2022-01-08T22:32:07.522251",
     "exception": false,
     "start_time": "2022-01-08T22:32:07.406978",
     "status": "completed"
    },
    "tags": []
   },
   "outputs": [
    {
     "name": "stdout",
     "output_type": "stream",
     "text": [
      "Reshape array row wise as order = C\n",
      "[[ 1  2  3]\n",
      " [ 4  5  6]\n",
      " [ 7  8  9]\n",
      " [10 11 12]] \n",
      "\n",
      "Reshape array column wise as order = F\n",
      "[[ 1  5  9]\n",
      " [ 2  6 10]\n",
      " [ 3  7 11]\n",
      " [ 4  8 12]]\n"
     ]
    }
   ],
   "source": [
    "### Reshape playing with order parameter\n",
    "### C row wise operation\n",
    "### F column wise operation\n",
    "### A \n",
    "\n",
    "r = np.reshape(a, (4, 3))\n",
    "c= np.reshape(a, (4,3), order='F')  ## by default it is C (i.e. row wise) and F for column wise\n",
    "\n",
    "print(\"Reshape array row wise as order = C\")\n",
    "print(r,'\\n')\n",
    "print(\"Reshape array column wise as order = F\")\n",
    "print(c)\n"
   ]
  },
  {
   "cell_type": "markdown",
   "id": "7fc55439",
   "metadata": {
    "papermill": {
     "duration": 0.105029,
     "end_time": "2022-01-08T22:32:07.734210",
     "exception": false,
     "start_time": "2022-01-08T22:32:07.629181",
     "status": "completed"
    },
    "tags": []
   },
   "source": [
    "While reshaping be cautious 4x3 , 3x4 or 2x6 might work for 12 element array  \n",
    "but not 2x5 or 3x3 as these product to 10 and 9 respectively."
   ]
  },
  {
   "cell_type": "code",
   "execution_count": 41,
   "id": "1146ff02",
   "metadata": {
    "execution": {
     "iopub.execute_input": "2022-01-08T22:32:07.946535Z",
     "iopub.status.busy": "2022-01-08T22:32:07.945921Z",
     "iopub.status.idle": "2022-01-08T22:32:07.950692Z",
     "shell.execute_reply": "2022-01-08T22:32:07.951205Z",
     "shell.execute_reply.started": "2022-01-08T22:31:20.963446Z"
    },
    "papermill": {
     "duration": 0.112804,
     "end_time": "2022-01-08T22:32:07.951392",
     "exception": false,
     "start_time": "2022-01-08T22:32:07.838588",
     "status": "completed"
    },
    "tags": []
   },
   "outputs": [
    {
     "data": {
      "text/plain": [
       "array([[0, 1, 2],\n",
       "       [3, 0, 0]])"
      ]
     },
     "execution_count": 41,
     "metadata": {},
     "output_type": "execute_result"
    }
   ],
   "source": [
    "### Resize\n",
    "\n",
    "a=np.array([[0,1],[2,3]])\n",
    " #### np.resize(a,(2,3)) isn't working on my notebook  >> However this gives us new array and doesn't change original array\n",
    "a.resize((2,3))   #### this will resize the original array itself\n",
    "a"
   ]
  },
  {
   "cell_type": "markdown",
   "id": "16a34ca5",
   "metadata": {
    "papermill": {
     "duration": 0.106258,
     "end_time": "2022-01-08T22:32:08.163322",
     "exception": false,
     "start_time": "2022-01-08T22:32:08.057064",
     "status": "completed"
    },
    "tags": []
   },
   "source": [
    "# Array Manipulation \n",
    "## `Flatten` and `Ravel`\n",
    "1. **Flatten method** : Returns a copy of array collapsed into 1D so if we give nD (2D,3D,4D,...ND) this will return. This method will return a copy of the array collapsed into 1D array.\n",
    "> Syntax: ndaary_name.flatten(order) and by `default order value = C` Order can be picked from C, A, F, K\n",
    "        C:  Flatten the array into row major order\n",
    "        A:  Flatten in column major order if array is Fortran contagious in memorry, row major otherwise\n",
    "        F:  Flatten in **Column major**\n",
    "        K: Flatten in order the elements occur in memory\n",
    "       \n",
    "2. **Ravel Function** : This is also used to flatten the array. ***Input is returned but a copy is made only if needed***, `However in flatten method it will give the copy of array but in this function it will copy only when needed, It will give the view of the array`\n",
    "> syntax: `numpy.ravel(array_name, order)` :: by default order=C\n",
    "\n",
    "Difference\n",
    "\n",
    "| Flatten       | Ravel         |\n",
    "| ------------- |:-------------:|\n",
    "| Returns a copy of array     | rreturn the copy only when needed, other wise it will give view of error | \n",
    "| -     | Ravel function is only **reference or view of original array**      |\n",
    "| Flatten is a **method** of nd array object | **Library level** function |\n",
    "| This is why we can't write np.flatten() as it is not a function | where as we can write np.ravel()|"
   ]
  },
  {
   "cell_type": "code",
   "execution_count": 42,
   "id": "bc229aaa",
   "metadata": {
    "execution": {
     "iopub.execute_input": "2022-01-08T22:32:08.380160Z",
     "iopub.status.busy": "2022-01-08T22:32:08.379603Z",
     "iopub.status.idle": "2022-01-08T22:32:08.382190Z",
     "shell.execute_reply": "2022-01-08T22:32:08.382652Z",
     "shell.execute_reply.started": "2022-01-08T22:31:20.974802Z"
    },
    "papermill": {
     "duration": 0.114083,
     "end_time": "2022-01-08T22:32:08.382806",
     "exception": false,
     "start_time": "2022-01-08T22:32:08.268723",
     "status": "completed"
    },
    "tags": []
   },
   "outputs": [
    {
     "data": {
      "text/plain": [
       "array([0, 1, 2, 3, 0, 0])"
      ]
     },
     "execution_count": 42,
     "metadata": {},
     "output_type": "execute_result"
    }
   ],
   "source": [
    "### flatten will give a copy of array which will contain same elements of array but here we will get 1D array.\n",
    "a.flatten()"
   ]
  },
  {
   "cell_type": "code",
   "execution_count": 43,
   "id": "6664fc08",
   "metadata": {
    "execution": {
     "iopub.execute_input": "2022-01-08T22:32:08.595452Z",
     "iopub.status.busy": "2022-01-08T22:32:08.594858Z",
     "iopub.status.idle": "2022-01-08T22:32:08.606289Z",
     "shell.execute_reply": "2022-01-08T22:32:08.606725Z",
     "shell.execute_reply.started": "2022-01-08T22:31:20.990061Z"
    },
    "papermill": {
     "duration": 0.119687,
     "end_time": "2022-01-08T22:32:08.606879",
     "exception": false,
     "start_time": "2022-01-08T22:32:08.487192",
     "status": "completed"
    },
    "tags": []
   },
   "outputs": [
    {
     "name": "stdout",
     "output_type": "stream",
     "text": [
      "Original array\n",
      "[[[ 1  2  3]\n",
      "  [ 4  5  6]]\n",
      "\n",
      " [[ 7  8  9]\n",
      "  [10 11 12]]] \n",
      "\n",
      "When use only flatten\n",
      "[ 1  2  3  4  5  6  7  8  9 10 11 12] \n",
      "\n",
      "When use flatten with Order = C (this is default i.e row majors)\n",
      "[ 1  2  3  4  5  6  7  8  9 10 11 12] \n",
      "\n",
      "When use flatten with Order = F (i.e w.r.t columns)\n",
      "[ 1  7  4 10  2  8  5 11  3  9  6 12] \n",
      "\n",
      "When use flatten with Order = A\n",
      "[ 1  2  3  4  5  6  7  8  9 10 11 12] \n",
      "\n",
      "When use flatten with Order = K\n",
      "[ 1  2  3  4  5  6  7  8  9 10 11 12] \n",
      "\n"
     ]
    }
   ],
   "source": [
    "### Lets try one with 3D array\n",
    "b = np.array([[[1,2,3],[4,5,6]],[[7,8,9],[10,11,12]]])\n",
    "print('Original array')\n",
    "print(b,'\\n')\n",
    "\n",
    "print('When use only flatten')\n",
    "print(b.flatten(),'\\n')\n",
    "\n",
    "print('When use flatten with Order = C (this is default i.e row majors)')\n",
    "print(b.flatten(order=\"C\"),'\\n')\n",
    "\n",
    "print('When use flatten with Order = F (i.e w.r.t columns)')\n",
    "print(b.flatten(order=\"F\"),'\\n')\n",
    "\n",
    "print('When use flatten with Order = A')\n",
    "print(b.flatten(order=\"A\"),'\\n')\n",
    "\n",
    "print('When use flatten with Order = K')\n",
    "print(b.flatten(order=\"K\"),'\\n')"
   ]
  },
  {
   "cell_type": "code",
   "execution_count": 44,
   "id": "4be2f806",
   "metadata": {
    "execution": {
     "iopub.execute_input": "2022-01-08T22:32:08.821550Z",
     "iopub.status.busy": "2022-01-08T22:32:08.820905Z",
     "iopub.status.idle": "2022-01-08T22:32:08.830105Z",
     "shell.execute_reply": "2022-01-08T22:32:08.830655Z",
     "shell.execute_reply.started": "2022-01-08T22:31:21.011502Z"
    },
    "papermill": {
     "duration": 0.118775,
     "end_time": "2022-01-08T22:32:08.830826",
     "exception": false,
     "start_time": "2022-01-08T22:32:08.712051",
     "status": "completed"
    },
    "tags": []
   },
   "outputs": [
    {
     "name": "stdout",
     "output_type": "stream",
     "text": [
      "Original array\n",
      "[[[ 1  2  3]\n",
      "  [ 4  5  6]]\n",
      "\n",
      " [[ 7  8  9]\n",
      "  [10 11 12]]] \n",
      "\n",
      "When use only ravel\n",
      "[ 1  2  3  4  5  6  7  8  9 10 11 12] \n",
      "\n",
      "When use ravel with Order = C (this is default i.e row majors)\n",
      "[ 1  2  3  4  5  6  7  8  9 10 11 12] \n",
      "\n",
      "When use ravel with Order = F (i.e w.r.t columns)\n",
      "[ 1  7  4 10  2  8  5 11  3  9  6 12] \n",
      "\n",
      "When use ravel with Order = A\n",
      "[ 1  2  3  4  5  6  7  8  9 10 11 12] \n",
      "\n",
      "When use ravel with Order = K\n",
      "[ 1  2  3  4  5  6  7  8  9 10 11 12] \n",
      "\n"
     ]
    }
   ],
   "source": [
    "### Now lets try ravel\n",
    "\n",
    "print('Original array')\n",
    "print(b,'\\n')\n",
    "\n",
    "print('When use only ravel')\n",
    "print(np.ravel(b),'\\n')\n",
    "\n",
    "print('When use ravel with Order = C (this is default i.e row majors)')\n",
    "print(np.ravel(b, order=\"C\"),'\\n')\n",
    "\n",
    "print('When use ravel with Order = F (i.e w.r.t columns)')\n",
    "print(np.ravel(b, order=\"F\"),'\\n')\n",
    "\n",
    "print('When use ravel with Order = A')\n",
    "print(np.ravel(b, order=\"A\"),'\\n')\n",
    "\n",
    "print('When use ravel with Order = K')\n",
    "print(b.ravel(order=\"K\"),'\\n')  ### Another method to perform ravel"
   ]
  },
  {
   "attachments": {
    "07947aea-e93d-4b55-9cbf-ad8a2a40e340.png": {
     "image/png": "[encoded data removed]"
    },
    "5e986c36-7314-49ac-b428-1955efa7c3a1.png": {
     "image/png": "[encoded data removed]"
    }
   },
   "cell_type": "markdown",
   "id": "8cf1347d",
   "metadata": {
    "papermill": {
     "duration": 0.107516,
     "end_time": "2022-01-08T22:32:09.045113",
     "exception": false,
     "start_time": "2022-01-08T22:32:08.937597",
     "status": "completed"
    },
    "tags": []
   },
   "source": [
    "## `Transpose` & `Swapaxes`\n",
    "\n",
    "![download (1).png](attachment:07947aea-e93d-4b55-9cbf-ad8a2a40e340.png)  ![download.png](attachment:5e986c36-7314-49ac-b428-1955efa7c3a1.png)\n",
    "\n",
    "1. **Transpose()** function: Transposition is a special form of data reorganization that can return to the view of the underlying data without copying any content. The array has a transpose method and a special T attribute. `.T` is the simplest transposition attribute and the basis of all transpositions.\n",
    "> or numpy.transpose(array_name, axes= None) :: None is default  ` This won't copy the data but would give view of original array`\n",
    "\n",
    "\n",
    "2. **Swapaxes()** function:  This function swaps the two axes of the array, returns a view of the swap array, and does not copy the data. This method is **different from transpose in that it receives a pair of axis numbers as parameters and performs axis transposition**.\n",
    "> Syntax: `numpy . swapaxes ( arr , axis1 , axis2 )`             # (array to be swapped, axis number)   \n",
    "**Returns**\n",
    "a_swappedndarray For NumPy >= 1.10.0, if a is an ndarray, then a view of a is returned; otherwise a new array is created. For earlier NumPy versions a view of a is returned only if the order of the axes is changed, otherwise the input array is returned."
   ]
  },
  {
   "cell_type": "code",
   "execution_count": 45,
   "id": "cc446caf",
   "metadata": {
    "execution": {
     "iopub.execute_input": "2022-01-08T22:32:09.262084Z",
     "iopub.status.busy": "2022-01-08T22:32:09.261509Z",
     "iopub.status.idle": "2022-01-08T22:32:09.266931Z",
     "shell.execute_reply": "2022-01-08T22:32:09.267328Z",
     "shell.execute_reply.started": "2022-01-08T22:31:21.024965Z"
    },
    "papermill": {
     "duration": 0.115004,
     "end_time": "2022-01-08T22:32:09.267517",
     "exception": false,
     "start_time": "2022-01-08T22:32:09.152513",
     "status": "completed"
    },
    "tags": []
   },
   "outputs": [
    {
     "name": "stdout",
     "output_type": "stream",
     "text": [
      "[1 2 3 4 5 6 7 8 9]\n",
      "[1 2 3 4 5 6 7 8 9]\n",
      "Shape of original array (9,)\n",
      "Shape of transposed array (9,)\n"
     ]
    }
   ],
   "source": [
    "##### Transpose on 1D array\n",
    "a= np.arange(1,10)\n",
    "print(a)\n",
    "print(np.transpose(a))\n",
    "print('Shape of original array',a.shape)\n",
    "print('Shape of transposed array',np.transpose(a).shape)"
   ]
  },
  {
   "cell_type": "code",
   "execution_count": 46,
   "id": "debd9af8",
   "metadata": {
    "execution": {
     "iopub.execute_input": "2022-01-08T22:32:09.482941Z",
     "iopub.status.busy": "2022-01-08T22:32:09.482328Z",
     "iopub.status.idle": "2022-01-08T22:32:09.490469Z",
     "shell.execute_reply": "2022-01-08T22:32:09.490992Z",
     "shell.execute_reply.started": "2022-01-08T22:31:21.037410Z"
    },
    "papermill": {
     "duration": 0.117433,
     "end_time": "2022-01-08T22:32:09.491149",
     "exception": false,
     "start_time": "2022-01-08T22:32:09.373716",
     "status": "completed"
    },
    "tags": []
   },
   "outputs": [
    {
     "name": "stdout",
     "output_type": "stream",
     "text": [
      "Original 1D array\n",
      "[53 26 51  5 31 95 84 12 48 23 63 79 15  3 74 56 29 62 27 90]\n",
      "\n",
      "Original 1D array after reshape\n",
      "[[53 26 51  5]\n",
      " [31 95 84 12]\n",
      " [48 23 63 79]\n",
      " [15  3 74 56]\n",
      " [29 62 27 90]]\n",
      "\n",
      "reshaped array after being transposed\n",
      "[[53 31 48 15 29]\n",
      " [26 95 23  3 62]\n",
      " [51 84 63 74 27]\n",
      " [ 5 12 79 56 90]]\n",
      "This rearranged the dimension from 5,4 to 4,5\n",
      "\n"
     ]
    }
   ],
   "source": [
    "a= np.random.randint(100,size= (20))  ### Created a 1D array with 20 elements \n",
    "b = a.reshape(5,4) ### reshape that array into 5x4\n",
    "print(\"Original 1D array\")\n",
    "print(a)\n",
    "print()\n",
    "print(\"Original 1D array after reshape\")\n",
    "print(b)\n",
    "print()\n",
    "print(\"reshaped array after being transposed\")\n",
    "print(np.transpose(b))\n",
    "print(\"This rearranged the dimension from 5,4 to 4,5\")\n",
    "print()"
   ]
  },
  {
   "cell_type": "code",
   "execution_count": 47,
   "id": "e669228c",
   "metadata": {
    "execution": {
     "iopub.execute_input": "2022-01-08T22:32:09.708932Z",
     "iopub.status.busy": "2022-01-08T22:32:09.704971Z",
     "iopub.status.idle": "2022-01-08T22:32:09.713527Z",
     "shell.execute_reply": "2022-01-08T22:32:09.714020Z",
     "shell.execute_reply.started": "2022-01-08T22:31:21.052941Z"
    },
    "papermill": {
     "duration": 0.117658,
     "end_time": "2022-01-08T22:32:09.714181",
     "exception": false,
     "start_time": "2022-01-08T22:32:09.596523",
     "status": "completed"
    },
    "tags": []
   },
   "outputs": [
    {
     "name": "stdout",
     "output_type": "stream",
     "text": [
      "Shape of original array (2, 3, 4)\n",
      "[[[ 1  2  3  4]\n",
      "  [ 5  6  7  8]\n",
      "  [ 9 10 11 12]]\n",
      "\n",
      " [[13 14 15 16]\n",
      "  [17 18 19 20]\n",
      "  [21 22 23 24]]]\n",
      "\n",
      "After transpose check shape of array\n",
      "\n",
      "Shape of transposed array (4, 3, 2)\n",
      "[[[ 1 13]\n",
      "  [ 5 17]\n",
      "  [ 9 21]]\n",
      "\n",
      " [[ 2 14]\n",
      "  [ 6 18]\n",
      "  [10 22]]\n",
      "\n",
      " [[ 3 15]\n",
      "  [ 7 19]\n",
      "  [11 23]]\n",
      "\n",
      " [[ 4 16]\n",
      "  [ 8 20]\n",
      "  [12 24]]]\n",
      "\n"
     ]
    }
   ],
   "source": [
    "### Lets c for 3D array\n",
    "a= np.arange(1,25).reshape(2,3,4)\n",
    "print('Shape of original array',a.shape)\n",
    "print(a)\n",
    "print()\n",
    "print(\"After transpose check shape of array\")\n",
    "print()\n",
    "print('Shape of transposed array',np.transpose(a).shape)\n",
    "print(np.transpose(a))\n",
    "print()"
   ]
  },
  {
   "cell_type": "markdown",
   "id": "50d9fac4",
   "metadata": {
    "papermill": {
     "duration": 0.106165,
     "end_time": "2022-01-08T22:32:09.927182",
     "exception": false,
     "start_time": "2022-01-08T22:32:09.821017",
     "status": "completed"
    },
    "tags": []
   },
   "source": [
    "## `Join` & `Split`\n",
    "\n",
    "### Joining Numpy Arrays\n",
    "* Joining means putting contents of two or more arrays in a single array.\n",
    "* In *SQL we join tables* `based on a key`, whereas in NumPy we join `arrays by axes`.\n",
    "* We pass a sequence of arrays that we want to join to the **concatenate()** function, along with the axis. If axis is not explicitly passed, it is taken as 0."
   ]
  },
  {
   "cell_type": "code",
   "execution_count": 48,
   "id": "9687ac19",
   "metadata": {
    "execution": {
     "iopub.execute_input": "2022-01-08T22:32:10.205609Z",
     "iopub.status.busy": "2022-01-08T22:32:10.204991Z",
     "iopub.status.idle": "2022-01-08T22:32:10.208385Z",
     "shell.execute_reply": "2022-01-08T22:32:10.208819Z",
     "shell.execute_reply.started": "2022-01-08T22:31:21.068363Z"
    },
    "papermill": {
     "duration": 0.174539,
     "end_time": "2022-01-08T22:32:10.208986",
     "exception": false,
     "start_time": "2022-01-08T22:32:10.034447",
     "status": "completed"
    },
    "tags": []
   },
   "outputs": [
    {
     "name": "stdout",
     "output_type": "stream",
     "text": [
      "[1 2 3 4 5 6]\n"
     ]
    }
   ],
   "source": [
    "### Joining 1D Array\n",
    "\n",
    "arr1 = np.array([1, 2, 3])\n",
    "arr2 = np.array([4, 5, 6])\n",
    "\n",
    "arr = np.concatenate((arr1, arr2))\n",
    "print(arr)"
   ]
  },
  {
   "cell_type": "code",
   "execution_count": 49,
   "id": "316e74fd",
   "metadata": {
    "execution": {
     "iopub.execute_input": "2022-01-08T22:32:10.439636Z",
     "iopub.status.busy": "2022-01-08T22:32:10.438968Z",
     "iopub.status.idle": "2022-01-08T22:32:10.441377Z",
     "shell.execute_reply": "2022-01-08T22:32:10.441822Z",
     "shell.execute_reply.started": "2022-01-08T22:31:21.081026Z"
    },
    "papermill": {
     "duration": 0.12568,
     "end_time": "2022-01-08T22:32:10.441978",
     "exception": false,
     "start_time": "2022-01-08T22:32:10.316298",
     "status": "completed"
    },
    "tags": []
   },
   "outputs": [
    {
     "name": "stdout",
     "output_type": "stream",
     "text": [
      "[[1 2 5 6]\n",
      " [3 4 7 8]]\n"
     ]
    }
   ],
   "source": [
    "### Joining 2D array\n",
    "\n",
    "arr1 = np.array([[1, 2], [3, 4]])\n",
    "arr2 = np.array([[5, 6], [7, 8]])\n",
    "\n",
    "arr = np.concatenate((arr1, arr2), axis=1)\n",
    "print(arr)"
   ]
  },
  {
   "cell_type": "markdown",
   "id": "840f9b03",
   "metadata": {
    "papermill": {
     "duration": 0.107336,
     "end_time": "2022-01-08T22:32:10.656119",
     "exception": false,
     "start_time": "2022-01-08T22:32:10.548783",
     "status": "completed"
    },
    "tags": []
   },
   "source": [
    "### Joining Arrays Using Stack Functions\n",
    "\n",
    "* Stacking is same as concatenation, the **only difference is that stacking is done along a new axis**.\n",
    "* `We can concatenate two 1-D arrays along the second axis which would result in putting them one over the other, ie. stacking.`\n",
    "* We pass a sequence of arrays that we want to join to the stack() method along with the axis. If axis is not explicitly passed it is taken as 0."
   ]
  },
  {
   "cell_type": "code",
   "execution_count": 50,
   "id": "52a6c22a",
   "metadata": {
    "execution": {
     "iopub.execute_input": "2022-01-08T22:32:10.877966Z",
     "iopub.status.busy": "2022-01-08T22:32:10.877365Z",
     "iopub.status.idle": "2022-01-08T22:32:10.879761Z",
     "shell.execute_reply": "2022-01-08T22:32:10.880211Z",
     "shell.execute_reply.started": "2022-01-08T22:31:21.099181Z"
    },
    "papermill": {
     "duration": 0.117721,
     "end_time": "2022-01-08T22:32:10.880405",
     "exception": false,
     "start_time": "2022-01-08T22:32:10.762684",
     "status": "completed"
    },
    "tags": []
   },
   "outputs": [
    {
     "name": "stdout",
     "output_type": "stream",
     "text": [
      "[[1 4]\n",
      " [2 5]\n",
      " [3 6]]\n"
     ]
    }
   ],
   "source": [
    "arr1 = np.array([1, 2, 3])\n",
    "arr2 = np.array([4, 5, 6])\n",
    "\n",
    "arr = np.stack((arr1, arr2), axis=1)\n",
    "print(arr)"
   ]
  },
  {
   "cell_type": "code",
   "execution_count": 51,
   "id": "0fa5fcb1",
   "metadata": {
    "execution": {
     "iopub.execute_input": "2022-01-08T22:32:11.101153Z",
     "iopub.status.busy": "2022-01-08T22:32:11.100578Z",
     "iopub.status.idle": "2022-01-08T22:32:11.106451Z",
     "shell.execute_reply": "2022-01-08T22:32:11.106963Z",
     "shell.execute_reply.started": "2022-01-08T22:31:21.113897Z"
    },
    "papermill": {
     "duration": 0.11837,
     "end_time": "2022-01-08T22:32:11.107141",
     "exception": false,
     "start_time": "2022-01-08T22:32:10.988771",
     "status": "completed"
    },
    "tags": []
   },
   "outputs": [
    {
     "name": "stdout",
     "output_type": "stream",
     "text": [
      "[1 2 3 4 5 6]\n",
      "1\n"
     ]
    }
   ],
   "source": [
    "### Stacking Along Rows\n",
    "# NumPy provides a helper function: hstack() to stack along rows.\n",
    "\n",
    "arr1 = np.array([1, 2, 3])\n",
    "arr2 = np.array([4, 5, 6])\n",
    "\n",
    "arr = np.hstack((arr1, arr2))\n",
    "print(arr)\n",
    "print(arr.ndim)"
   ]
  },
  {
   "cell_type": "code",
   "execution_count": 52,
   "id": "647caee8",
   "metadata": {
    "execution": {
     "iopub.execute_input": "2022-01-08T22:32:11.327032Z",
     "iopub.status.busy": "2022-01-08T22:32:11.326417Z",
     "iopub.status.idle": "2022-01-08T22:32:11.331615Z",
     "shell.execute_reply": "2022-01-08T22:32:11.332288Z",
     "shell.execute_reply.started": "2022-01-08T22:31:21.129879Z"
    },
    "papermill": {
     "duration": 0.116866,
     "end_time": "2022-01-08T22:32:11.332521",
     "exception": false,
     "start_time": "2022-01-08T22:32:11.215655",
     "status": "completed"
    },
    "tags": []
   },
   "outputs": [
    {
     "name": "stdout",
     "output_type": "stream",
     "text": [
      "[[1 2 3]\n",
      " [4 5 6]]\n",
      "2\n",
      "we can notice this turned 2 1-D array into 1 2D array\n"
     ]
    }
   ],
   "source": [
    "# Stacking Along Columns\n",
    "# NumPy provides a helper function: vstack()  to stack along columns.\n",
    "\n",
    "arr1 = np.array([1, 2, 3])\n",
    "arr2 = np.array([4, 5, 6])\n",
    "\n",
    "arr = np.vstack((arr1, arr2))\n",
    "print(arr)\n",
    "print(arr.ndim)\n",
    "print(\"we can notice this turned 2 1-D array into 1 2D array\")"
   ]
  },
  {
   "cell_type": "code",
   "execution_count": 53,
   "id": "eb3be22d",
   "metadata": {
    "execution": {
     "iopub.execute_input": "2022-01-08T22:32:11.551963Z",
     "iopub.status.busy": "2022-01-08T22:32:11.551382Z",
     "iopub.status.idle": "2022-01-08T22:32:11.557547Z",
     "shell.execute_reply": "2022-01-08T22:32:11.558329Z",
     "shell.execute_reply.started": "2022-01-08T22:31:21.145674Z"
    },
    "papermill": {
     "duration": 0.116617,
     "end_time": "2022-01-08T22:32:11.558587",
     "exception": false,
     "start_time": "2022-01-08T22:32:11.441970",
     "status": "completed"
    },
    "tags": []
   },
   "outputs": [
    {
     "name": "stdout",
     "output_type": "stream",
     "text": [
      "[[[1 4]\n",
      "  [2 5]\n",
      "  [3 6]]]\n",
      "3\n",
      "(1, 3, 2)\n"
     ]
    }
   ],
   "source": [
    "## Stacking Along Height (depth)\n",
    "### NumPy provides a helper function: dstack() to stack along height, which is the same as depth.\n",
    "\n",
    "arr1 = np.array([1, 2, 3])\n",
    "arr2 = np.array([4, 5, 6])\n",
    "\n",
    "arr = np.dstack((arr1, arr2))\n",
    "print(arr)\n",
    "print(arr.ndim)\n",
    "print(arr.shape)"
   ]
  },
  {
   "cell_type": "markdown",
   "id": "ddd8d15c",
   "metadata": {
    "papermill": {
     "duration": 0.107059,
     "end_time": "2022-01-08T22:32:11.773393",
     "exception": false,
     "start_time": "2022-01-08T22:32:11.666334",
     "status": "completed"
    },
    "tags": []
   },
   "source": [
    "### Splitting Numpy Arrays\n",
    "\n",
    "* Splitting is reverse operation of Joining.\n",
    "* Joining merges multiple arrays into one and Splitting breaks one array into multiple.\n",
    "* We use array_split() for splitting arrays, we pass it the array we want to split and the number of splits.\n",
    "\n",
    "1. np.array_split(array_name, no of parts)  `Note: The return value is an array containing three arrays.`\n",
    "> The return value of the array_split() method is an array containing each of the split as an array.  \n",
    " If you split an array into 3 arrays, you can access them from the result just like any array element:"
   ]
  },
  {
   "cell_type": "code",
   "execution_count": 54,
   "id": "e860671e",
   "metadata": {
    "execution": {
     "iopub.execute_input": "2022-01-08T22:32:11.993354Z",
     "iopub.status.busy": "2022-01-08T22:32:11.992603Z",
     "iopub.status.idle": "2022-01-08T22:32:11.996374Z",
     "shell.execute_reply": "2022-01-08T22:32:11.995814Z",
     "shell.execute_reply.started": "2022-01-08T22:31:21.159373Z"
    },
    "papermill": {
     "duration": 0.115686,
     "end_time": "2022-01-08T22:32:11.996521",
     "exception": false,
     "start_time": "2022-01-08T22:32:11.880835",
     "status": "completed"
    },
    "tags": []
   },
   "outputs": [
    {
     "name": "stdout",
     "output_type": "stream",
     "text": [
      "[array([86, 24, 55, 99]), array([23, 51, 84, 81]), array([ 8, 98, 13, 53])]\n"
     ]
    }
   ],
   "source": [
    "### Split the array in 3 parts:\n",
    "\n",
    "arr= np.random.randint(100, size=(12))\n",
    "new= np.array_split(arr,3)\n",
    "print(new)"
   ]
  },
  {
   "cell_type": "markdown",
   "id": "de258adb",
   "metadata": {
    "papermill": {
     "duration": 0.109174,
     "end_time": "2022-01-08T22:32:12.216603",
     "exception": false,
     "start_time": "2022-01-08T22:32:12.107429",
     "status": "completed"
    },
    "tags": []
   },
   "source": [
    "`NOTE:` We also have the method split() available but it will not adjust the elements when elements are less in source array for splitting like in example above, array_split() worked properly but split() would fail."
   ]
  },
  {
   "cell_type": "code",
   "execution_count": 55,
   "id": "1896cb6d",
   "metadata": {
    "execution": {
     "iopub.execute_input": "2022-01-08T22:32:12.440285Z",
     "iopub.status.busy": "2022-01-08T22:32:12.439638Z",
     "iopub.status.idle": "2022-01-08T22:32:12.442428Z",
     "shell.execute_reply": "2022-01-08T22:32:12.442866Z",
     "shell.execute_reply.started": "2022-01-08T22:31:21.177269Z"
    },
    "papermill": {
     "duration": 0.117341,
     "end_time": "2022-01-08T22:32:12.443034",
     "exception": false,
     "start_time": "2022-01-08T22:32:12.325693",
     "status": "completed"
    },
    "tags": []
   },
   "outputs": [
    {
     "name": "stdout",
     "output_type": "stream",
     "text": [
      "[86 24 55 99]\n",
      "[23 51 84 81]\n",
      "[ 8 98 13 53]\n"
     ]
    }
   ],
   "source": [
    "## If you split an array into 3 arrays, you can access them from the result just like any array element:\n",
    "newarr = np.array_split(arr, 3)\n",
    "\n",
    "print(newarr[0])\n",
    "print(newarr[1])\n",
    "print(newarr[2])"
   ]
  },
  {
   "cell_type": "markdown",
   "id": "adfd96d9",
   "metadata": {
    "papermill": {
     "duration": 0.107973,
     "end_time": "2022-01-08T22:32:12.659509",
     "exception": false,
     "start_time": "2022-01-08T22:32:12.551536",
     "status": "completed"
    },
    "tags": []
   },
   "source": [
    "#### Splitting 2-D Arrays\n",
    "* Use the same syntax when splitting 2-D arrays.\n",
    "* Use the `array_split()` method, pass in the array you want to split and the number of splits you want to do."
   ]
  },
  {
   "cell_type": "code",
   "execution_count": 56,
   "id": "26ce2440",
   "metadata": {
    "execution": {
     "iopub.execute_input": "2022-01-08T22:32:12.880898Z",
     "iopub.status.busy": "2022-01-08T22:32:12.880118Z",
     "iopub.status.idle": "2022-01-08T22:32:12.883725Z",
     "shell.execute_reply": "2022-01-08T22:32:12.884326Z",
     "shell.execute_reply.started": "2022-01-08T22:31:21.195432Z"
    },
    "papermill": {
     "duration": 0.117099,
     "end_time": "2022-01-08T22:32:12.884554",
     "exception": false,
     "start_time": "2022-01-08T22:32:12.767455",
     "status": "completed"
    },
    "tags": []
   },
   "outputs": [
    {
     "name": "stdout",
     "output_type": "stream",
     "text": [
      "[array([[1, 2],\n",
      "       [3, 4]]), array([[5, 6],\n",
      "       [7, 8]]), array([[ 9, 10],\n",
      "       [11, 12]])]\n"
     ]
    }
   ],
   "source": [
    "arr = np.array([[1, 2], [3, 4], [5, 6], [7, 8], [9, 10], [11, 12]])\n",
    "newarr = np.array_split(arr, 3)\n",
    "print(newarr)"
   ]
  },
  {
   "cell_type": "code",
   "execution_count": 57,
   "id": "c57c81c7",
   "metadata": {
    "execution": {
     "iopub.execute_input": "2022-01-08T22:32:13.106300Z",
     "iopub.status.busy": "2022-01-08T22:32:13.105631Z",
     "iopub.status.idle": "2022-01-08T22:32:13.111557Z",
     "shell.execute_reply": "2022-01-08T22:32:13.112060Z",
     "shell.execute_reply.started": "2022-01-08T22:31:21.213111Z"
    },
    "papermill": {
     "duration": 0.118223,
     "end_time": "2022-01-08T22:32:13.112238",
     "exception": false,
     "start_time": "2022-01-08T22:32:12.994015",
     "status": "completed"
    },
    "tags": []
   },
   "outputs": [
    {
     "name": "stdout",
     "output_type": "stream",
     "text": [
      "[array([[ 1],\n",
      "       [ 4],\n",
      "       [ 7],\n",
      "       [10],\n",
      "       [13],\n",
      "       [16]]), array([[ 2],\n",
      "       [ 5],\n",
      "       [ 8],\n",
      "       [11],\n",
      "       [14],\n",
      "       [17]]), array([[ 3],\n",
      "       [ 6],\n",
      "       [ 9],\n",
      "       [12],\n",
      "       [15],\n",
      "       [18]])]\n"
     ]
    }
   ],
   "source": [
    "## Split the 2-D array into three 2-D arrays along rows.\n",
    "\n",
    "arr = np.array([[1, 2, 3], [4, 5, 6], [7, 8, 9], [10, 11, 12], [13, 14, 15], [16, 17, 18]])\n",
    "newarr = np.array_split(arr, 3, axis=1)\n",
    "print(newarr)"
   ]
  },
  {
   "cell_type": "markdown",
   "id": "3ee4c156",
   "metadata": {
    "papermill": {
     "duration": 0.108996,
     "end_time": "2022-01-08T22:32:13.330647",
     "exception": false,
     "start_time": "2022-01-08T22:32:13.221651",
     "status": "completed"
    },
    "tags": []
   },
   "source": [
    "An alternate solution is using `hsplit()` opposite of `hstack()`"
   ]
  },
  {
   "cell_type": "code",
   "execution_count": 58,
   "id": "4d8fd2db",
   "metadata": {
    "execution": {
     "iopub.execute_input": "2022-01-08T22:32:13.551018Z",
     "iopub.status.busy": "2022-01-08T22:32:13.550439Z",
     "iopub.status.idle": "2022-01-08T22:32:13.557515Z",
     "shell.execute_reply": "2022-01-08T22:32:13.556608Z",
     "shell.execute_reply.started": "2022-01-08T22:31:21.227039Z"
    },
    "papermill": {
     "duration": 0.118458,
     "end_time": "2022-01-08T22:32:13.557753",
     "exception": false,
     "start_time": "2022-01-08T22:32:13.439295",
     "status": "completed"
    },
    "tags": []
   },
   "outputs": [
    {
     "name": "stdout",
     "output_type": "stream",
     "text": [
      "[array([[ 1],\n",
      "       [ 4],\n",
      "       [ 7],\n",
      "       [10],\n",
      "       [13],\n",
      "       [16]]), array([[ 2],\n",
      "       [ 5],\n",
      "       [ 8],\n",
      "       [11],\n",
      "       [14],\n",
      "       [17]]), array([[ 3],\n",
      "       [ 6],\n",
      "       [ 9],\n",
      "       [12],\n",
      "       [15],\n",
      "       [18]])]\n"
     ]
    }
   ],
   "source": [
    "### Use the hsplit() method to split the 2-D array into three 2-D arrays along rows.\n",
    "\n",
    "arr = np.array([[1, 2, 3], [4, 5, 6], [7, 8, 9], [10, 11, 12], [13, 14, 15], [16, 17, 18]])\n",
    "newarr = np.hsplit(arr, 3)\n",
    "print(newarr)"
   ]
  },
  {
   "cell_type": "markdown",
   "id": "9c5bcb7b",
   "metadata": {
    "papermill": {
     "duration": 0.109002,
     "end_time": "2022-01-08T22:32:13.777744",
     "exception": false,
     "start_time": "2022-01-08T22:32:13.668742",
     "status": "completed"
    },
    "tags": []
   },
   "source": [
    "#### `NOTE:` ***Similar alternates to `vstack()` and `dstack()` are available as `vsplit()` and `dsplit()`.***"
   ]
  },
  {
   "attachments": {
    "bb0bdc43-1d78-4dcb-aef1-f53cfca50ce5.PNG": {
     "image/png": "[encoded data removed]"
    }
   },
   "cell_type": "markdown",
   "id": "2866421c",
   "metadata": {
    "papermill": {
     "duration": 0.109275,
     "end_time": "2022-01-08T22:32:13.998791",
     "exception": false,
     "start_time": "2022-01-08T22:32:13.889516",
     "status": "completed"
    },
    "tags": []
   },
   "source": [
    "# Array Indexing and Slicing\n",
    "\n",
    "* Array indexing is the same as accessing an array element.\n",
    "* You can access an array element by referring to its index number.\n",
    "* The indexes in NumPy arrays start with 0, meaning that the first element has index 0, and the second has index 1 etc.\n",
    "\n",
    "![indexing and slicing.PNG](attachment:bb0bdc43-1d78-4dcb-aef1-f53cfca50ce5.PNG)"
   ]
  },
  {
   "cell_type": "code",
   "execution_count": 59,
   "id": "1e366c60",
   "metadata": {
    "execution": {
     "iopub.execute_input": "2022-01-08T22:32:14.220893Z",
     "iopub.status.busy": "2022-01-08T22:32:14.220293Z",
     "iopub.status.idle": "2022-01-08T22:32:14.228632Z",
     "shell.execute_reply": "2022-01-08T22:32:14.229086Z",
     "shell.execute_reply.started": "2022-01-08T22:31:21.240628Z"
    },
    "papermill": {
     "duration": 0.120541,
     "end_time": "2022-01-08T22:32:14.229281",
     "exception": false,
     "start_time": "2022-01-08T22:32:14.108740",
     "status": "completed"
    },
    "tags": []
   },
   "outputs": [
    {
     "name": "stdout",
     "output_type": "stream",
     "text": [
      "[[ 1  2  3  4  5  6  7  8]\n",
      " [ 9 10 11 12 13 14 15 16]] \n",
      "\n",
      "Shape of a array:  (2, 8)\n",
      "Dimension:  2\n",
      "\n",
      "[17 18 19 20 21 22 23 24]\n"
     ]
    }
   ],
   "source": [
    "a= np.array([[1,2,3,4,5,6,7,8],[9,10,11,12,13,14,15,16]])\n",
    "b= np.array([17,18,19,20,21,22,23,24], dtype='int8')\n",
    "\n",
    "print(a, '\\n')\n",
    "print('Shape of a array: ',a.shape)\n",
    "print('Dimension: ',a.ndim)\n",
    "\n",
    "print()\n",
    "print(b)"
   ]
  },
  {
   "cell_type": "code",
   "execution_count": 60,
   "id": "f76a7082",
   "metadata": {
    "execution": {
     "iopub.execute_input": "2022-01-08T22:32:14.453124Z",
     "iopub.status.busy": "2022-01-08T22:32:14.452590Z",
     "iopub.status.idle": "2022-01-08T22:32:14.456862Z",
     "shell.execute_reply": "2022-01-08T22:32:14.457409Z",
     "shell.execute_reply.started": "2022-01-08T22:31:21.258368Z"
    },
    "papermill": {
     "duration": 0.118626,
     "end_time": "2022-01-08T22:32:14.457568",
     "exception": false,
     "start_time": "2022-01-08T22:32:14.338942",
     "status": "completed"
    },
    "tags": []
   },
   "outputs": [
    {
     "name": "stdout",
     "output_type": "stream",
     "text": [
      "3rd element of array b: 19\n"
     ]
    }
   ],
   "source": [
    "print('3rd element of array b:',b[2])"
   ]
  },
  {
   "cell_type": "code",
   "execution_count": 61,
   "id": "86f1abb3",
   "metadata": {
    "execution": {
     "iopub.execute_input": "2022-01-08T22:32:14.679422Z",
     "iopub.status.busy": "2022-01-08T22:32:14.678845Z",
     "iopub.status.idle": "2022-01-08T22:32:14.684432Z",
     "shell.execute_reply": "2022-01-08T22:32:14.684900Z",
     "shell.execute_reply.started": "2022-01-08T22:31:21.274169Z"
    },
    "papermill": {
     "duration": 0.117661,
     "end_time": "2022-01-08T22:32:14.685052",
     "exception": false,
     "start_time": "2022-01-08T22:32:14.567391",
     "status": "completed"
    },
    "tags": []
   },
   "outputs": [
    {
     "name": "stdout",
     "output_type": "stream",
     "text": [
      "4th element on 1st row: 4 \n",
      "\n",
      "6th element on 2nd row: 14\n"
     ]
    }
   ],
   "source": [
    "print('4th element on 1st row:', a[0, 3],'\\n')\n",
    "print('6th element on 2nd row:', a[1, 5])"
   ]
  },
  {
   "cell_type": "markdown",
   "id": "0fa1d409",
   "metadata": {
    "papermill": {
     "duration": 0.109306,
     "end_time": "2022-01-08T22:32:14.904453",
     "exception": false,
     "start_time": "2022-01-08T22:32:14.795147",
     "status": "completed"
    },
    "tags": []
   },
   "source": [
    "### Slicing\n",
    "\n",
    "* Slicing in python **means taking elements from one given index to another given index.**\n",
    "* We pass slice instead of index like this: [start:end].\n",
    "* We can also define the step, like this: [start:end:step].\n",
    "* If we don't pass start its considered 0\n",
    "* If we don't pass end its considered length of array in that dimension\n",
    "* If we don't pass step its considered 1\n",
    "\n",
    "***NOTE:*** `The result includes the start index, but excludes the end index.`"
   ]
  },
  {
   "cell_type": "code",
   "execution_count": 62,
   "id": "84070444",
   "metadata": {
    "execution": {
     "iopub.execute_input": "2022-01-08T22:32:15.128185Z",
     "iopub.status.busy": "2022-01-08T22:32:15.127627Z",
     "iopub.status.idle": "2022-01-08T22:32:15.134266Z",
     "shell.execute_reply": "2022-01-08T22:32:15.135026Z",
     "shell.execute_reply.started": "2022-01-08T22:31:21.287679Z"
    },
    "papermill": {
     "duration": 0.120962,
     "end_time": "2022-01-08T22:32:15.135252",
     "exception": false,
     "start_time": "2022-01-08T22:32:15.014290",
     "status": "completed"
    },
    "tags": []
   },
   "outputs": [
    {
     "name": "stdout",
     "output_type": "stream",
     "text": [
      "[17 18 19 20 21 22 23 24]\n",
      "[18 19 20 21]\n",
      "[21 22 23 24]\n",
      "\n",
      "Negative Slicing\n",
      "Use the minus operator to refer to an index from the end\n",
      "[22 23 24]\n",
      "[22 23]\n"
     ]
    }
   ],
   "source": [
    "print(b[:]) ### will show complete array\n",
    "print(b[1:5]) ## index 1 to 4 ~~~ 5th Index is excluded\n",
    "print(b[4:])  ## will after 4th index (including 4th)\n",
    "print()\n",
    "print(\"Negative Slicing\")\n",
    "print(\"Use the minus operator to refer to an index from the end\")\n",
    "print(b[-3:])     ## Will print last 3 elements\n",
    "print(b[-3:-1])   ## Will print 2nd last 2 elements"
   ]
  },
  {
   "cell_type": "code",
   "execution_count": 63,
   "id": "c16c6946",
   "metadata": {
    "execution": {
     "iopub.execute_input": "2022-01-08T22:32:15.361030Z",
     "iopub.status.busy": "2022-01-08T22:32:15.360459Z",
     "iopub.status.idle": "2022-01-08T22:32:15.365539Z",
     "shell.execute_reply": "2022-01-08T22:32:15.366068Z",
     "shell.execute_reply.started": "2022-01-08T22:31:21.303349Z"
    },
    "papermill": {
     "duration": 0.120412,
     "end_time": "2022-01-08T22:32:15.366250",
     "exception": false,
     "start_time": "2022-01-08T22:32:15.245838",
     "status": "completed"
    },
    "tags": []
   },
   "outputs": [
    {
     "name": "stdout",
     "output_type": "stream",
     "text": [
      "[17 18 19 20 21 22 23 24]\n",
      "[18 20 22]\n",
      "[17 19 21 23]\n"
     ]
    }
   ],
   "source": [
    "#####~~~~~~~~~~~~~~~~~~~~~~~~~ STEP ~~~~~~~~~~~~~~~~~~~~~~~~~#####\n",
    "# Use the step value to determine the step of the slicing:\n",
    "\n",
    "print(b)\n",
    "print(b[1:7:2])\n",
    "print(b[::2])  ## Print elements after n no of steps"
   ]
  },
  {
   "cell_type": "code",
   "execution_count": 64,
   "id": "d51dc9ca",
   "metadata": {
    "execution": {
     "iopub.execute_input": "2022-01-08T22:32:15.600144Z",
     "iopub.status.busy": "2022-01-08T22:32:15.599251Z",
     "iopub.status.idle": "2022-01-08T22:32:15.606754Z",
     "shell.execute_reply": "2022-01-08T22:32:15.606207Z",
     "shell.execute_reply.started": "2022-01-08T22:31:21.316774Z"
    },
    "papermill": {
     "duration": 0.1207,
     "end_time": "2022-01-08T22:32:15.606887",
     "exception": false,
     "start_time": "2022-01-08T22:32:15.486187",
     "status": "completed"
    },
    "tags": []
   },
   "outputs": [
    {
     "name": "stdout",
     "output_type": "stream",
     "text": [
      "[[ 1  2  3  4  5  6  7  8]\n",
      " [ 9 10 11 12 13 14 15 16]]\n",
      "[[1 2 3 4 5 6 7 8]]\n",
      "[[ 9 10 11 12 13 14 15 16]]\n",
      "\n",
      "[ 3 11]\n",
      "[11]\n"
     ]
    }
   ],
   "source": [
    "print(a[0:2])   ## Will return complete array\n",
    "print(a[0:1])   ## will only print elements from 1st row\n",
    "print(a[1:2])   ## will only print elements from 2nd row\n",
    "print()\n",
    "print(a[0:2,2]) ## Will return 2nd index of both row\n",
    "print(a[1:2,2]) ## Will return 2nd index of 2nd row\n"
   ]
  },
  {
   "cell_type": "code",
   "execution_count": 65,
   "id": "bd02692c",
   "metadata": {
    "execution": {
     "iopub.execute_input": "2022-01-08T22:32:15.830009Z",
     "iopub.status.busy": "2022-01-08T22:32:15.829455Z",
     "iopub.status.idle": "2022-01-08T22:32:15.833914Z",
     "shell.execute_reply": "2022-01-08T22:32:15.833482Z",
     "shell.execute_reply.started": "2022-01-08T22:31:21.330202Z"
    },
    "papermill": {
     "duration": 0.116692,
     "end_time": "2022-01-08T22:32:15.834044",
     "exception": false,
     "start_time": "2022-01-08T22:32:15.717352",
     "status": "completed"
    },
    "tags": []
   },
   "outputs": [
    {
     "name": "stdout",
     "output_type": "stream",
     "text": [
      "[[ 2  3  4]\n",
      " [10 11 12]]\n"
     ]
    }
   ],
   "source": [
    "# From both elements, slice index 1 to index 4 (not included), this will return a 2-D array:\n",
    "print(a[0:2, 1:4])"
   ]
  },
  {
   "attachments": {
    "2d6600d4-f126-4aec-ad88-6c9bf358ca32.jpg": {
     "image/jpeg": "[encoded data removed]"
    },
    "a70d4bb4-f6f4-4633-95e1-1585e91923ca.png": {
     "image/png": "[encoded data removed]"
    }
   },
   "cell_type": "markdown",
   "id": "09f5505a",
   "metadata": {
    "papermill": {
     "duration": 0.110255,
     "end_time": "2022-01-08T22:32:16.054681",
     "exception": false,
     "start_time": "2022-01-08T22:32:15.944426",
     "status": "completed"
    },
    "tags": []
   },
   "source": [
    "## Searching and Sorting\n",
    "\n",
    "### We can seach an array for certain values, and return the indexes that get a match with the help of `where()` method\n",
    "#### We can also use `searchsorted()` method which performs a binary search in an array and return the index where specified value would be inserted to maintain the search order. The searchsorted() method is assumed to be used on sorted arrays.\n",
    "#### `Search from right side` By default the left most index is returned, but we can give side='right' to return the right most index instead.\n",
    "#### `Multiple Values` To search for more than one value, use an array with the specified values.\n",
    "\n",
    "\n",
    "### Sorting means putting elements in an ordered sequence. Ordered sequence is any sequence that has an order corresponding to elements, like numeric or alphabetical, ascending or descending. The NumPy ndarray object has a function called sort(), that will sort a specified array.\n",
    "#### `NOTE:` This method returns a copy of the array, leaving the original array unchanged.\n",
    "\n",
    "![2-Dimensional-sort-axis-none.jpg](attachment:2d6600d4-f126-4aec-ad88-6c9bf358ca32.jpg)\n",
    "\n",
    "![numpy-sort.png](attachment:a70d4bb4-f6f4-4633-95e1-1585e91923ca.png)"
   ]
  },
  {
   "cell_type": "code",
   "execution_count": 66,
   "id": "d228227c",
   "metadata": {
    "execution": {
     "iopub.execute_input": "2022-01-08T22:32:16.279335Z",
     "iopub.status.busy": "2022-01-08T22:32:16.278750Z",
     "iopub.status.idle": "2022-01-08T22:32:16.287557Z",
     "shell.execute_reply": "2022-01-08T22:32:16.287953Z",
     "shell.execute_reply.started": "2022-01-08T22:31:21.346209Z"
    },
    "papermill": {
     "duration": 0.121789,
     "end_time": "2022-01-08T22:32:16.288115",
     "exception": false,
     "start_time": "2022-01-08T22:32:16.166326",
     "status": "completed"
    },
    "tags": []
   },
   "outputs": [
    {
     "name": "stdout",
     "output_type": "stream",
     "text": [
      "Looking for 100 in array (array([9]),)\n",
      "Looking for element greater than 100 in array (array([ 8, 11, 12, 13]),)\n",
      "Looking for element greater than equal to 100 in array (array([ 8,  9, 11, 12, 13]),)\n",
      "\n",
      "Index having Even No (array([ 4,  7,  9, 10, 11, 15]),)\n",
      "Index having Odd No (array([ 0,  1,  2,  3,  5,  6,  8, 12, 13, 14, 16, 17, 18]),)\n"
     ]
    }
   ],
   "source": [
    "#### Use Where\n",
    "\n",
    "g= np.array((25,75,85,75,48,95,25,36,789,100,2,256,125,521,-5,6,7,9,21), dtype='int16')  ### Observe the reading with int8\n",
    "\n",
    "print(\"Looking for 100 in array\",np.where(g == 100))\n",
    "print(\"Looking for element greater than 100 in array\",np.where(g > 100))\n",
    "print(\"Looking for element greater than equal to 100 in array\",np.where(g >= 100))\n",
    "print()\n",
    "print(\"Index having Even No\", np.where(g%2==0))\n",
    "print(\"Index having Odd No\", np.where(g%2==1))"
   ]
  },
  {
   "cell_type": "code",
   "execution_count": 67,
   "id": "845c2a99",
   "metadata": {
    "execution": {
     "iopub.execute_input": "2022-01-08T22:32:16.516568Z",
     "iopub.status.busy": "2022-01-08T22:32:16.515955Z",
     "iopub.status.idle": "2022-01-08T22:32:16.518255Z",
     "shell.execute_reply": "2022-01-08T22:32:16.518730Z",
     "shell.execute_reply.started": "2022-01-08T22:31:21.366973Z"
    },
    "papermill": {
     "duration": 0.119325,
     "end_time": "2022-01-08T22:32:16.518888",
     "exception": false,
     "start_time": "2022-01-08T22:32:16.399563",
     "status": "completed"
    },
    "tags": []
   },
   "outputs": [
    {
     "name": "stdout",
     "output_type": "stream",
     "text": [
      "7 is present at index no 7\n"
     ]
    }
   ],
   "source": [
    "############~~~~~~~~~~~~~~~~~~~~~~~~ Search Sorted ~~~~~~~~~~~~~~~~~~~~~~~~############\n",
    "### searchsorted() method is assumed to be used on sorted arrays.\n",
    "\n",
    "arr = np.array([0,1,2,3,4,5,6,7,8,9, 10, 11, 12, 13, 14])\n",
    "\n",
    "x = np.searchsorted(arr, 7)\n",
    "\n",
    "print('7 is present at index no',x)"
   ]
  },
  {
   "cell_type": "code",
   "execution_count": 68,
   "id": "07b6140e",
   "metadata": {
    "execution": {
     "iopub.execute_input": "2022-01-08T22:32:16.744157Z",
     "iopub.status.busy": "2022-01-08T22:32:16.743583Z",
     "iopub.status.idle": "2022-01-08T22:32:16.750330Z",
     "shell.execute_reply": "2022-01-08T22:32:16.750848Z",
     "shell.execute_reply.started": "2022-01-08T22:31:21.381106Z"
    },
    "papermill": {
     "duration": 0.121152,
     "end_time": "2022-01-08T22:32:16.751009",
     "exception": false,
     "start_time": "2022-01-08T22:32:16.629857",
     "status": "completed"
    },
    "tags": []
   },
   "outputs": [
    {
     "name": "stdout",
     "output_type": "stream",
     "text": [
      "Index no 7\n",
      "searchsorted return only 1 value whereas where() would have returned 3 index values\n",
      "(array([7, 8, 9]),)\n"
     ]
    }
   ],
   "source": [
    "## The method starts the search from the left and returns the first index where the number 7 is no longer larger than the next value.\n",
    "\n",
    "arr = np.array([0,1,2,3,4,5,6,7,7,7,8,9, 10, 11, 12, 13, 14])\n",
    "x = np.searchsorted(arr, 7)\n",
    "\n",
    "print(\"Index no\",x)\n",
    "print('searchsorted return only 1 value whereas where() would have returned 3 index values')\n",
    "print(np.where(arr==7))"
   ]
  },
  {
   "cell_type": "code",
   "execution_count": 69,
   "id": "9de7dc58",
   "metadata": {
    "execution": {
     "iopub.execute_input": "2022-01-08T22:32:16.980364Z",
     "iopub.status.busy": "2022-01-08T22:32:16.979680Z",
     "iopub.status.idle": "2022-01-08T22:32:16.981874Z",
     "shell.execute_reply": "2022-01-08T22:32:16.982342Z",
     "shell.execute_reply.started": "2022-01-08T22:31:21.401123Z"
    },
    "papermill": {
     "duration": 0.119099,
     "end_time": "2022-01-08T22:32:16.982512",
     "exception": false,
     "start_time": "2022-01-08T22:32:16.863413",
     "status": "completed"
    },
    "tags": []
   },
   "outputs": [
    {
     "name": "stdout",
     "output_type": "stream",
     "text": [
      "10\n"
     ]
    }
   ],
   "source": [
    "### Similary we can search from Right side\n",
    "print(np.searchsorted(arr, 7, side='right'))"
   ]
  },
  {
   "cell_type": "markdown",
   "id": "058e14b9",
   "metadata": {
    "papermill": {
     "duration": 0.113562,
     "end_time": "2022-01-08T22:32:17.209516",
     "exception": false,
     "start_time": "2022-01-08T22:32:17.095954",
     "status": "completed"
    },
    "tags": []
   },
   "source": [
    "It should have returned 9th position but retuned 8th because\n",
    "> The method starts the search from the right and returns the first index where the number 7 is no longer less than the next value."
   ]
  },
  {
   "cell_type": "code",
   "execution_count": 70,
   "id": "13c3d1db",
   "metadata": {
    "execution": {
     "iopub.execute_input": "2022-01-08T22:32:17.442741Z",
     "iopub.status.busy": "2022-01-08T22:32:17.442061Z",
     "iopub.status.idle": "2022-01-08T22:32:17.445579Z",
     "shell.execute_reply": "2022-01-08T22:32:17.446014Z",
     "shell.execute_reply.started": "2022-01-08T22:31:21.419229Z"
    },
    "papermill": {
     "duration": 0.12311,
     "end_time": "2022-01-08T22:32:17.446175",
     "exception": false,
     "start_time": "2022-01-08T22:32:17.323065",
     "status": "completed"
    },
    "tags": []
   },
   "outputs": [
    {
     "name": "stdout",
     "output_type": "stream",
     "text": [
      "[ 2  4  6  7 17 17]\n"
     ]
    }
   ],
   "source": [
    "#####~~~~~~~~~~~~~~~~~~~~~~~~~~Multiple Values~~~~~~~~~~~~~~~~~~~~~~~~~~#####\n",
    "## To search for more than one value, use an array with the specified values.\n",
    "x = np.searchsorted(arr, [2, 4, 6, 7, 15, 20])\n",
    "print(x)  ### For missing values it is giving same index no "
   ]
  },
  {
   "cell_type": "markdown",
   "id": "fca86e8c",
   "metadata": {
    "papermill": {
     "duration": 0.113845,
     "end_time": "2022-01-08T22:32:17.672267",
     "exception": false,
     "start_time": "2022-01-08T22:32:17.558422",
     "status": "completed"
    },
    "tags": []
   },
   "source": [
    "## Sorting Array\n",
    "\n",
    "* Sorting means putting elements in an ordered sequence.\n",
    "* Ordered sequence is any sequence that has an order corresponding to elements, like numeric or alphabetical, ascending or descending.\n",
    "* The NumPy ndarray object has a function called sort(), that will sort a specified array.  \n",
    "`NOTE:` **np.sort() method returns a copy of the array, leaving the original array unchanged.**"
   ]
  },
  {
   "cell_type": "code",
   "execution_count": 71,
   "id": "ba673a4f",
   "metadata": {
    "execution": {
     "iopub.execute_input": "2022-01-08T22:32:17.906045Z",
     "iopub.status.busy": "2022-01-08T22:32:17.905084Z",
     "iopub.status.idle": "2022-01-08T22:32:17.909174Z",
     "shell.execute_reply": "2022-01-08T22:32:17.910104Z",
     "shell.execute_reply.started": "2022-01-08T22:31:21.433671Z"
    },
    "papermill": {
     "duration": 0.125458,
     "end_time": "2022-01-08T22:32:17.910372",
     "exception": false,
     "start_time": "2022-01-08T22:32:17.784914",
     "status": "completed"
    },
    "tags": []
   },
   "outputs": [
    {
     "data": {
      "text/plain": [
       "array([ 25,  75,  85,  75,  48,  95,  25,  36, 789, 100,   2, 256, 125,\n",
       "       521,  -5,   6,   7,   9,  21], dtype=int16)"
      ]
     },
     "execution_count": 71,
     "metadata": {},
     "output_type": "execute_result"
    }
   ],
   "source": [
    "### We will sort this array\n",
    "g"
   ]
  },
  {
   "cell_type": "code",
   "execution_count": 72,
   "id": "7f3371c5",
   "metadata": {
    "execution": {
     "iopub.execute_input": "2022-01-08T22:32:18.165387Z",
     "iopub.status.busy": "2022-01-08T22:32:18.164768Z",
     "iopub.status.idle": "2022-01-08T22:32:18.166989Z",
     "shell.execute_reply": "2022-01-08T22:32:18.167472Z",
     "shell.execute_reply.started": "2022-01-08T22:31:21.449158Z"
    },
    "papermill": {
     "duration": 0.121769,
     "end_time": "2022-01-08T22:32:18.167630",
     "exception": false,
     "start_time": "2022-01-08T22:32:18.045861",
     "status": "completed"
    },
    "tags": []
   },
   "outputs": [
    {
     "data": {
      "text/plain": [
       "array([ -5,   2,   6,   7,   9,  21,  25,  25,  36,  48,  75,  75,  85,\n",
       "        95, 100, 125, 256, 521, 789], dtype=int16)"
      ]
     },
     "execution_count": 72,
     "metadata": {},
     "output_type": "execute_result"
    }
   ],
   "source": [
    "np.sort(g)"
   ]
  },
  {
   "cell_type": "markdown",
   "id": "84aea626",
   "metadata": {
    "papermill": {
     "duration": 0.111921,
     "end_time": "2022-01-08T22:32:18.392470",
     "exception": false,
     "start_time": "2022-01-08T22:32:18.280549",
     "status": "completed"
    },
    "tags": []
   },
   "source": [
    "#### Can we sort words and booleans?"
   ]
  },
  {
   "cell_type": "code",
   "execution_count": 73,
   "id": "8fc6bce3",
   "metadata": {
    "execution": {
     "iopub.execute_input": "2022-01-08T22:32:18.624707Z",
     "iopub.status.busy": "2022-01-08T22:32:18.624085Z",
     "iopub.status.idle": "2022-01-08T22:32:18.626490Z",
     "shell.execute_reply": "2022-01-08T22:32:18.627285Z",
     "shell.execute_reply.started": "2022-01-08T22:31:21.465662Z"
    },
    "papermill": {
     "duration": 0.121796,
     "end_time": "2022-01-08T22:32:18.627517",
     "exception": false,
     "start_time": "2022-01-08T22:32:18.505721",
     "status": "completed"
    },
    "tags": []
   },
   "outputs": [
    {
     "name": "stdout",
     "output_type": "stream",
     "text": [
      "['APPLE' 'Apple' 'Cherry' 'apple' 'banana' 'cherry' 'coconut' 'pineapple'\n",
      " 'zacusi']\n"
     ]
    }
   ],
   "source": [
    "a = np.array(['zacusi', 'APPLE', 'banana','coconut', 'cherry', 'apple', 'pineapple', 'Apple', 'Cherry'])\n",
    "print(np.sort(a))"
   ]
  },
  {
   "cell_type": "code",
   "execution_count": 74,
   "id": "51d67d4f",
   "metadata": {
    "execution": {
     "iopub.execute_input": "2022-01-08T22:32:18.860292Z",
     "iopub.status.busy": "2022-01-08T22:32:18.859575Z",
     "iopub.status.idle": "2022-01-08T22:32:18.865558Z",
     "shell.execute_reply": "2022-01-08T22:32:18.864827Z",
     "shell.execute_reply.started": "2022-01-08T22:31:21.479998Z"
    },
    "papermill": {
     "duration": 0.122318,
     "end_time": "2022-01-08T22:32:18.865744",
     "exception": false,
     "start_time": "2022-01-08T22:32:18.743426",
     "status": "completed"
    },
    "tags": []
   },
   "outputs": [
    {
     "name": "stdout",
     "output_type": "stream",
     "text": [
      "[False False False False False  True  True  True  True]\n"
     ]
    }
   ],
   "source": [
    "a = np.array([True, False, True, False, True, False, True, False, False])\n",
    "print(np.sort(a))"
   ]
  },
  {
   "cell_type": "code",
   "execution_count": 75,
   "id": "e1e2610a",
   "metadata": {
    "execution": {
     "iopub.execute_input": "2022-01-08T22:32:19.105131Z",
     "iopub.status.busy": "2022-01-08T22:32:19.102354Z",
     "iopub.status.idle": "2022-01-08T22:32:19.107561Z",
     "shell.execute_reply": "2022-01-08T22:32:19.108017Z",
     "shell.execute_reply.started": "2022-01-08T22:31:21.493015Z"
    },
    "papermill": {
     "duration": 0.124382,
     "end_time": "2022-01-08T22:32:19.108179",
     "exception": false,
     "start_time": "2022-01-08T22:32:18.983797",
     "status": "completed"
    },
    "tags": []
   },
   "outputs": [
    {
     "name": "stdout",
     "output_type": "stream",
     "text": [
      "[[2 3 4]\n",
      " [0 1 5]]\n"
     ]
    }
   ],
   "source": [
    "### Sort 2d Array \n",
    "arr = np.array([[3, 2, 4], [5, 0, 1]])\n",
    "print(np.sort(arr, axis=1))"
   ]
  },
  {
   "cell_type": "code",
   "execution_count": 76,
   "id": "71d3fa76",
   "metadata": {
    "execution": {
     "iopub.execute_input": "2022-01-08T22:32:19.342802Z",
     "iopub.status.busy": "2022-01-08T22:32:19.342008Z",
     "iopub.status.idle": "2022-01-08T22:32:19.346142Z",
     "shell.execute_reply": "2022-01-08T22:32:19.345330Z",
     "shell.execute_reply.started": "2022-01-08T22:31:21.504558Z"
    },
    "papermill": {
     "duration": 0.122311,
     "end_time": "2022-01-08T22:32:19.346348",
     "exception": false,
     "start_time": "2022-01-08T22:32:19.224037",
     "status": "completed"
    },
    "tags": []
   },
   "outputs": [
    {
     "name": "stdout",
     "output_type": "stream",
     "text": [
      "[[3 0 1]\n",
      " [5 2 4]]\n"
     ]
    }
   ],
   "source": [
    "print(np.sort(arr, axis=0))"
   ]
  },
  {
   "cell_type": "code",
   "execution_count": 77,
   "id": "a494de5e",
   "metadata": {
    "execution": {
     "iopub.execute_input": "2022-01-08T22:32:19.583021Z",
     "iopub.status.busy": "2022-01-08T22:32:19.578501Z",
     "iopub.status.idle": "2022-01-08T22:32:19.587611Z",
     "shell.execute_reply": "2022-01-08T22:32:19.586766Z",
     "shell.execute_reply.started": "2022-01-08T22:31:21.517820Z"
    },
    "papermill": {
     "duration": 0.126022,
     "end_time": "2022-01-08T22:32:19.587800",
     "exception": false,
     "start_time": "2022-01-08T22:32:19.461778",
     "status": "completed"
    },
    "tags": []
   },
   "outputs": [
    {
     "name": "stdout",
     "output_type": "stream",
     "text": [
      "[[[0.28573715 0.58881585 0.10000161]\n",
      "  [0.24552747 0.55725725 0.69782623]]\n",
      "\n",
      " [[0.1433827  0.80113262 0.23319597]\n",
      "  [0.79870141 0.93128988 0.67592425]]]\n",
      "\n",
      "sort array on axis=0\n",
      "[[[0.1433827  0.58881585 0.10000161]\n",
      "  [0.24552747 0.55725725 0.67592425]]\n",
      "\n",
      " [[0.28573715 0.80113262 0.23319597]\n",
      "  [0.79870141 0.93128988 0.69782623]]]\n",
      "\n",
      "sort array on axis=1\n",
      "[[[0.24552747 0.55725725 0.10000161]\n",
      "  [0.28573715 0.58881585 0.69782623]]\n",
      "\n",
      " [[0.1433827  0.80113262 0.23319597]\n",
      "  [0.79870141 0.93128988 0.67592425]]]\n",
      "\n",
      "sort array on axis=2\n",
      "[[[0.10000161 0.28573715 0.58881585]\n",
      "  [0.24552747 0.55725725 0.69782623]]\n",
      "\n",
      " [[0.1433827  0.23319597 0.80113262]\n",
      "  [0.67592425 0.79870141 0.93128988]]]\n"
     ]
    }
   ],
   "source": [
    "### 3D Array Sort ###\n",
    "# a= np.array([[[1,2,3,4],[5,6,7,8]],[[9,10,11,12],[13,14,15,16]]])\n",
    "\n",
    "a= np.random.rand(2,2,3)   ### creates float random array\n",
    "print(a)\n",
    "print()\n",
    "print(\"sort array on axis=0\")\n",
    "print(np.sort(a, axis=0))\n",
    "print()\n",
    "print(\"sort array on axis=1\")\n",
    "print(np.sort(a, axis=1))\n",
    "print()\n",
    "print(\"sort array on axis=2\")\n",
    "print(np.sort(a, axis=2))"
   ]
  },
  {
   "cell_type": "code",
   "execution_count": 78,
   "id": "193f89f3",
   "metadata": {
    "execution": {
     "iopub.execute_input": "2022-01-08T22:32:19.823914Z",
     "iopub.status.busy": "2022-01-08T22:32:19.822929Z",
     "iopub.status.idle": "2022-01-08T22:32:19.829519Z",
     "shell.execute_reply": "2022-01-08T22:32:19.830246Z",
     "shell.execute_reply.started": "2022-01-08T22:31:21.536425Z"
    },
    "papermill": {
     "duration": 0.127055,
     "end_time": "2022-01-08T22:32:19.830471",
     "exception": false,
     "start_time": "2022-01-08T22:32:19.703416",
     "status": "completed"
    },
    "tags": []
   },
   "outputs": [
    {
     "name": "stdout",
     "output_type": "stream",
     "text": [
      "[[[36 87 50]\n",
      "  [76  7 51]]\n",
      "\n",
      " [[55 25 66]\n",
      "  [11 27 49]]]\n",
      "\n",
      "sort array on axis=0\n",
      "[[[36 25 50]\n",
      "  [11  7 49]]\n",
      "\n",
      " [[55 87 66]\n",
      "  [76 27 51]]]\n",
      "\n",
      "sort array on axis=1\n",
      "[[[36  7 50]\n",
      "  [76 87 51]]\n",
      "\n",
      " [[11 25 49]\n",
      "  [55 27 66]]]\n",
      "\n",
      "sort array on axis=2\n",
      "[[[36 50 87]\n",
      "  [ 7 51 76]]\n",
      "\n",
      " [[25 55 66]\n",
      "  [11 27 49]]]\n"
     ]
    }
   ],
   "source": [
    "a= np.random.randint(100, size=(2,2,3))   ### creates int random array with elements value less than 100\n",
    "print(a)\n",
    "print()\n",
    "print(\"sort array on axis=0\")\n",
    "print(np.sort(a, axis=0))\n",
    "print()\n",
    "print(\"sort array on axis=1\")\n",
    "print(np.sort(a, axis=1))\n",
    "print()\n",
    "print(\"sort array on axis=2\")\n",
    "print(np.sort(a, axis=2))"
   ]
  },
  {
   "attachments": {
    "5d6be8ac-76cf-410b-aabf-fc59536677c9.PNG": {
     "image/png": "[encoded data removed]"
    }
   },
   "cell_type": "markdown",
   "id": "3ab10e6f",
   "metadata": {
    "execution": {
     "iopub.execute_input": "2022-01-08T08:52:43.258336Z",
     "iopub.status.busy": "2022-01-08T08:52:43.257753Z",
     "iopub.status.idle": "2022-01-08T08:52:43.263886Z",
     "shell.execute_reply": "2022-01-08T08:52:43.263041Z",
     "shell.execute_reply.started": "2022-01-08T08:52:43.258290Z"
    },
    "papermill": {
     "duration": 0.114055,
     "end_time": "2022-01-08T22:32:20.060188",
     "exception": false,
     "start_time": "2022-01-08T22:32:19.946133",
     "status": "completed"
    },
    "tags": []
   },
   "source": [
    "> #### Can we create an mix array\n",
    " a= np.array([['a', 'b', 'n', 'k', 'j', 'A'],[1,2,3,4,5,6,7]])\n",
    "![numpy error.PNG](attachment:5d6be8ac-76cf-410b-aabf-fc59536677c9.PNG)"
   ]
  },
  {
   "cell_type": "markdown",
   "id": "12208787",
   "metadata": {
    "papermill": {
     "duration": 0.114469,
     "end_time": "2022-01-08T22:32:20.289556",
     "exception": false,
     "start_time": "2022-01-08T22:32:20.175087",
     "status": "completed"
    },
    "tags": []
   },
   "source": [
    "# Iteration\n",
    "* Iterating means going through elements one by one.\n",
    "* As we deal with multi-dimensional arrays in numpy, we can do this using basic for loop of python.\n",
    "* `NOTE:` ***If we iterate on a n-D array it will go through n-1th dimension one by one.***"
   ]
  },
  {
   "cell_type": "code",
   "execution_count": 79,
   "id": "3aa6fcf3",
   "metadata": {
    "execution": {
     "iopub.execute_input": "2022-01-08T22:32:20.535924Z",
     "iopub.status.busy": "2022-01-08T22:32:20.534976Z",
     "iopub.status.idle": "2022-01-08T22:32:20.540490Z",
     "shell.execute_reply": "2022-01-08T22:32:20.540959Z",
     "shell.execute_reply.started": "2022-01-08T22:31:21.553845Z"
    },
    "papermill": {
     "duration": 0.134403,
     "end_time": "2022-01-08T22:32:20.541121",
     "exception": false,
     "start_time": "2022-01-08T22:32:20.406718",
     "status": "completed"
    },
    "tags": []
   },
   "outputs": [
    {
     "name": "stdout",
     "output_type": "stream",
     "text": [
      "1\n",
      "2\n",
      "3\n"
     ]
    }
   ],
   "source": [
    "# Iterate on the elements of the following 1-D array:\n",
    "arr = np.array([1, 2, 3])\n",
    "\n",
    "for x in arr:\n",
    "  print(x)"
   ]
  },
  {
   "cell_type": "code",
   "execution_count": 80,
   "id": "397d461a",
   "metadata": {
    "execution": {
     "iopub.execute_input": "2022-01-08T22:32:20.776389Z",
     "iopub.status.busy": "2022-01-08T22:32:20.775434Z",
     "iopub.status.idle": "2022-01-08T22:32:20.782484Z",
     "shell.execute_reply": "2022-01-08T22:32:20.781834Z",
     "shell.execute_reply.started": "2022-01-08T22:31:21.568071Z"
    },
    "papermill": {
     "duration": 0.126178,
     "end_time": "2022-01-08T22:32:20.782643",
     "exception": false,
     "start_time": "2022-01-08T22:32:20.656465",
     "status": "completed"
    },
    "tags": []
   },
   "outputs": [
    {
     "name": "stdout",
     "output_type": "stream",
     "text": [
      "[[1 2 3]\n",
      " [4 5 6]]\n",
      "[[ 7  8  9]\n",
      " [10 11 12]]\n"
     ]
    }
   ],
   "source": [
    "## Iterate on the elements of the following 3-D array:\n",
    "arr = np.array([[[1, 2, 3], [4, 5, 6]], [[7, 8, 9], [10, 11, 12]]])\n",
    "\n",
    "for x in arr:\n",
    "  print(x)\n"
   ]
  },
  {
   "cell_type": "code",
   "execution_count": 81,
   "id": "7015a884",
   "metadata": {
    "execution": {
     "iopub.execute_input": "2022-01-08T22:32:21.021401Z",
     "iopub.status.busy": "2022-01-08T22:32:21.020406Z",
     "iopub.status.idle": "2022-01-08T22:32:21.025058Z",
     "shell.execute_reply": "2022-01-08T22:32:21.025478Z",
     "shell.execute_reply.started": "2022-01-08T22:31:21.583411Z"
    },
    "papermill": {
     "duration": 0.12579,
     "end_time": "2022-01-08T22:32:21.025644",
     "exception": false,
     "start_time": "2022-01-08T22:32:20.899854",
     "status": "completed"
    },
    "tags": []
   },
   "outputs": [
    {
     "name": "stdout",
     "output_type": "stream",
     "text": [
      "1\n",
      "2\n",
      "3\n",
      "4\n",
      "5\n",
      "6\n",
      "7\n",
      "8\n",
      "9\n",
      "10\n",
      "11\n",
      "12\n"
     ]
    }
   ],
   "source": [
    "## To return the actual values, the scalars, we have to iterate the arrays in each dimension.  \n",
    "### This should be followed for all array above 1D\n",
    "\n",
    "arr = np.array([[[1, 2, 3], [4, 5, 6]], [[7, 8, 9], [10, 11, 12]]])\n",
    "\n",
    "for x in arr:\n",
    "  for y in x:\n",
    "    for z in y:\n",
    "      print(z)"
   ]
  },
  {
   "cell_type": "code",
   "execution_count": 82,
   "id": "4e8ca179",
   "metadata": {
    "execution": {
     "iopub.execute_input": "2022-01-08T22:32:21.271280Z",
     "iopub.status.busy": "2022-01-08T22:32:21.270632Z",
     "iopub.status.idle": "2022-01-08T22:32:21.273718Z",
     "shell.execute_reply": "2022-01-08T22:32:21.273110Z",
     "shell.execute_reply.started": "2022-01-08T22:31:21.596360Z"
    },
    "papermill": {
     "duration": 0.128062,
     "end_time": "2022-01-08T22:32:21.273853",
     "exception": false,
     "start_time": "2022-01-08T22:32:21.145791",
     "status": "completed"
    },
    "tags": []
   },
   "outputs": [
    {
     "name": "stdout",
     "output_type": "stream",
     "text": [
      "1\n",
      "2\n",
      "3\n",
      "4\n",
      "5\n",
      "6\n"
     ]
    }
   ],
   "source": [
    "### Same thing for 2D\n",
    "\n",
    "arr = np.array([[1, 2, 3], [4, 5, 6]])\n",
    "\n",
    "for i in arr:\n",
    "    for j in i:\n",
    "        print(j)"
   ]
  },
  {
   "cell_type": "markdown",
   "id": "7ef63b44",
   "metadata": {
    "papermill": {
     "duration": 0.116105,
     "end_time": "2022-01-08T22:32:21.509401",
     "exception": false,
     "start_time": "2022-01-08T22:32:21.393296",
     "status": "completed"
    },
    "tags": []
   },
   "source": [
    "### Iterating Arrays Using nditer()\n",
    "\n",
    "The **function nditer()** is a `helping function` that can be used from very basic to very advanced iterations. *It solves some basic issues which we face in iteratio*n, lets go through it with examples.\n",
    "\n",
    "* Iterating on Each Scalar Element\n",
    "* In basic for loops, iterating through each scalar of an array we need to use n for loops which can be difficult to write for arrays with very high dimensionality."
   ]
  },
  {
   "cell_type": "code",
   "execution_count": 83,
   "id": "b0f8eb6d",
   "metadata": {
    "execution": {
     "iopub.execute_input": "2022-01-08T22:32:21.744274Z",
     "iopub.status.busy": "2022-01-08T22:32:21.743668Z",
     "iopub.status.idle": "2022-01-08T22:32:21.749251Z",
     "shell.execute_reply": "2022-01-08T22:32:21.749809Z",
     "shell.execute_reply.started": "2022-01-08T22:31:21.609049Z"
    },
    "papermill": {
     "duration": 0.124589,
     "end_time": "2022-01-08T22:32:21.749973",
     "exception": false,
     "start_time": "2022-01-08T22:32:21.625384",
     "status": "completed"
    },
    "tags": []
   },
   "outputs": [
    {
     "name": "stdout",
     "output_type": "stream",
     "text": [
      "1\n",
      "2\n",
      "3\n",
      "4\n",
      "5\n",
      "6\n",
      "7\n",
      "8\n"
     ]
    }
   ],
   "source": [
    "arr = np.array([[[1, 2], [3, 4]], [[5, 6], [7, 8]]])\n",
    "\n",
    "for x in np.nditer(arr):\n",
    "  print(x)"
   ]
  },
  {
   "cell_type": "markdown",
   "id": "83d91b04",
   "metadata": {
    "papermill": {
     "duration": 0.11831,
     "end_time": "2022-01-08T22:32:21.984513",
     "exception": false,
     "start_time": "2022-01-08T22:32:21.866203",
     "status": "completed"
    },
    "tags": []
   },
   "source": [
    "### Iterating Array With Different Data Types\n",
    "\n",
    "We can use op_dtypes argument and pass it the expected datatype to change the datatype of elements while iterating.\n",
    "\n",
    "NumPy does not change the data type of the element in-place (where the element is in array) so it needs some other space to perform this action, that extra space is called buffer, and in order to enable it in nditer() we pass flags=['buffered']."
   ]
  },
  {
   "cell_type": "code",
   "execution_count": 84,
   "id": "bfdf0e5e",
   "metadata": {
    "execution": {
     "iopub.execute_input": "2022-01-08T22:32:22.222133Z",
     "iopub.status.busy": "2022-01-08T22:32:22.221516Z",
     "iopub.status.idle": "2022-01-08T22:32:22.226733Z",
     "shell.execute_reply": "2022-01-08T22:32:22.227182Z",
     "shell.execute_reply.started": "2022-01-08T22:31:21.622768Z"
    },
    "papermill": {
     "duration": 0.125662,
     "end_time": "2022-01-08T22:32:22.227374",
     "exception": false,
     "start_time": "2022-01-08T22:32:22.101712",
     "status": "completed"
    },
    "tags": []
   },
   "outputs": [
    {
     "name": "stdout",
     "output_type": "stream",
     "text": [
      "b'1'\n",
      "b'2'\n",
      "b'3'\n"
     ]
    }
   ],
   "source": [
    "arr = np.array([1, 2, 3])\n",
    "\n",
    "for x in np.nditer(arr, flags=['buffered'], op_dtypes=['S']):\n",
    "  print(x)\n"
   ]
  },
  {
   "cell_type": "markdown",
   "id": "76e3d9bd",
   "metadata": {
    "papermill": {
     "duration": 0.11482,
     "end_time": "2022-01-08T22:32:22.460337",
     "exception": false,
     "start_time": "2022-01-08T22:32:22.345517",
     "status": "completed"
    },
    "tags": []
   },
   "source": [
    "### Iterating With Different Step Size\n"
   ]
  },
  {
   "cell_type": "code",
   "execution_count": 85,
   "id": "9704a95c",
   "metadata": {
    "execution": {
     "iopub.execute_input": "2022-01-08T22:32:22.695101Z",
     "iopub.status.busy": "2022-01-08T22:32:22.694527Z",
     "iopub.status.idle": "2022-01-08T22:32:22.697562Z",
     "shell.execute_reply": "2022-01-08T22:32:22.697075Z",
     "shell.execute_reply.started": "2022-01-08T22:31:21.632952Z"
    },
    "papermill": {
     "duration": 0.12252,
     "end_time": "2022-01-08T22:32:22.697690",
     "exception": false,
     "start_time": "2022-01-08T22:32:22.575170",
     "status": "completed"
    },
    "tags": []
   },
   "outputs": [
    {
     "name": "stdout",
     "output_type": "stream",
     "text": [
      "1\n",
      "3\n",
      "5\n",
      "7\n"
     ]
    }
   ],
   "source": [
    "arr = np.array([[1, 2, 3, 4], [5, 6, 7, 8]])\n",
    "\n",
    "for x in np.nditer(arr[:, ::2]):\n",
    "  print(x)\n"
   ]
  },
  {
   "cell_type": "markdown",
   "id": "3fd99598",
   "metadata": {
    "papermill": {
     "duration": 0.11485,
     "end_time": "2022-01-08T22:32:22.928143",
     "exception": false,
     "start_time": "2022-01-08T22:32:22.813293",
     "status": "completed"
    },
    "tags": []
   },
   "source": [
    "### Enumerated Iteration Using ndenumerate()\n",
    "\n",
    "* Enumeration means mentioning sequence number of somethings one by one.\n",
    "* Sometimes we require corresponding index of the element while iterating, the ndenumerate() method can be used for those usecases."
   ]
  },
  {
   "cell_type": "code",
   "execution_count": 86,
   "id": "3fc836db",
   "metadata": {
    "execution": {
     "iopub.execute_input": "2022-01-08T22:32:23.164756Z",
     "iopub.status.busy": "2022-01-08T22:32:23.164126Z",
     "iopub.status.idle": "2022-01-08T22:32:23.166908Z",
     "shell.execute_reply": "2022-01-08T22:32:23.167570Z",
     "shell.execute_reply.started": "2022-01-08T22:31:21.645363Z"
    },
    "papermill": {
     "duration": 0.124544,
     "end_time": "2022-01-08T22:32:23.167777",
     "exception": false,
     "start_time": "2022-01-08T22:32:23.043233",
     "status": "completed"
    },
    "tags": []
   },
   "outputs": [
    {
     "name": "stdout",
     "output_type": "stream",
     "text": [
      "(0,) 1\n",
      "(1,) 2\n",
      "(2,) 3\n"
     ]
    }
   ],
   "source": [
    "arr = np.array([1, 2, 3])\n",
    "\n",
    "for idx, x in np.ndenumerate(arr):\n",
    "  print(idx, x)"
   ]
  },
  {
   "cell_type": "code",
   "execution_count": 87,
   "id": "fe2009de",
   "metadata": {
    "execution": {
     "iopub.execute_input": "2022-01-08T22:32:23.409850Z",
     "iopub.status.busy": "2022-01-08T22:32:23.409262Z",
     "iopub.status.idle": "2022-01-08T22:32:23.413118Z",
     "shell.execute_reply": "2022-01-08T22:32:23.412645Z",
     "shell.execute_reply.started": "2022-01-08T22:31:21.656844Z"
    },
    "papermill": {
     "duration": 0.125105,
     "end_time": "2022-01-08T22:32:23.413276",
     "exception": false,
     "start_time": "2022-01-08T22:32:23.288171",
     "status": "completed"
    },
    "tags": []
   },
   "outputs": [
    {
     "name": "stdout",
     "output_type": "stream",
     "text": [
      "(0, 0) 1\n",
      "(0, 1) 2\n",
      "(0, 2) 3\n",
      "(0, 3) 4\n",
      "(1, 0) 5\n",
      "(1, 1) 6\n",
      "(1, 2) 7\n",
      "(1, 3) 8\n"
     ]
    }
   ],
   "source": [
    "arr = np.array([[1, 2, 3, 4], [5, 6, 7, 8]])\n",
    "\n",
    "for idx, x in np.ndenumerate(arr):\n",
    "  print(idx, x)"
   ]
  },
  {
   "cell_type": "code",
   "execution_count": 88,
   "id": "f9ad27cf",
   "metadata": {
    "execution": {
     "iopub.execute_input": "2022-01-08T22:32:23.651114Z",
     "iopub.status.busy": "2022-01-08T22:32:23.650515Z",
     "iopub.status.idle": "2022-01-08T22:32:23.652942Z",
     "shell.execute_reply": "2022-01-08T22:32:23.653687Z",
     "shell.execute_reply.started": "2022-01-08T22:31:21.672611Z"
    },
    "papermill": {
     "duration": 0.124165,
     "end_time": "2022-01-08T22:32:23.653957",
     "exception": false,
     "start_time": "2022-01-08T22:32:23.529792",
     "status": "completed"
    },
    "tags": []
   },
   "outputs": [
    {
     "data": {
      "text/plain": [
       "\"['A', 'M', 'A', 'N']\""
      ]
     },
     "execution_count": 88,
     "metadata": {},
     "output_type": "execute_result"
    }
   ],
   "source": [
    "### Quick python test \n",
    "### What will be the output\n",
    "\n",
    "l=['A','M','A','N']\n",
    "str(l)"
   ]
  },
  {
   "cell_type": "markdown",
   "id": "9fb083c6",
   "metadata": {
    "papermill": {
     "duration": 0.119147,
     "end_time": "2022-01-08T22:32:23.891700",
     "exception": false,
     "start_time": "2022-01-08T22:32:23.772553",
     "status": "completed"
    },
    "tags": []
   },
   "source": [
    "## Filter\n",
    "\n",
    "* Getting some elements out of an existing array and creating a new array out of them is called filtering.\n",
    "* In NumPy, you filter an array using a boolean index list.\n",
    "* A boolean index list is a list of booleans corresponding to indexes in the array.\n",
    "> If the value at an index is True that element is contained in the filtered array, if the value at that index is False that element is excluded from the filtered array.\n"
   ]
  },
  {
   "cell_type": "code",
   "execution_count": 89,
   "id": "5bbe069a",
   "metadata": {
    "execution": {
     "iopub.execute_input": "2022-01-08T22:32:24.131462Z",
     "iopub.status.busy": "2022-01-08T22:32:24.130825Z",
     "iopub.status.idle": "2022-01-08T22:32:24.136157Z",
     "shell.execute_reply": "2022-01-08T22:32:24.136959Z",
     "shell.execute_reply.started": "2022-01-08T22:31:21.683839Z"
    },
    "papermill": {
     "duration": 0.128685,
     "end_time": "2022-01-08T22:32:24.137191",
     "exception": false,
     "start_time": "2022-01-08T22:32:24.008506",
     "status": "completed"
    },
    "tags": []
   },
   "outputs": [
    {
     "name": "stdout",
     "output_type": "stream",
     "text": [
      "[41 43]\n"
     ]
    }
   ],
   "source": [
    "arr = np.array([41, 42, 43, 44])\n",
    "x = [True, False, True, False]\n",
    "\n",
    "newarr = arr[x]\n",
    "print(newarr)"
   ]
  },
  {
   "cell_type": "markdown",
   "id": "753b1fc9",
   "metadata": {
    "papermill": {
     "duration": 0.118594,
     "end_time": "2022-01-08T22:32:24.375965",
     "exception": false,
     "start_time": "2022-01-08T22:32:24.257371",
     "status": "completed"
    },
    "tags": []
   },
   "source": [
    "Q. Why only 41 and 43?  \n",
    "Because the new filter contains only the values where the filter array had the value True, in this case, index 0 and 2."
   ]
  },
  {
   "cell_type": "code",
   "execution_count": 90,
   "id": "50a771d3",
   "metadata": {
    "execution": {
     "iopub.execute_input": "2022-01-08T22:32:24.615100Z",
     "iopub.status.busy": "2022-01-08T22:32:24.614512Z",
     "iopub.status.idle": "2022-01-08T22:32:24.620458Z",
     "shell.execute_reply": "2022-01-08T22:32:24.620875Z",
     "shell.execute_reply.started": "2022-01-08T22:31:21.695664Z"
    },
    "papermill": {
     "duration": 0.125967,
     "end_time": "2022-01-08T22:32:24.621039",
     "exception": false,
     "start_time": "2022-01-08T22:32:24.495072",
     "status": "completed"
    },
    "tags": []
   },
   "outputs": [
    {
     "name": "stdout",
     "output_type": "stream",
     "text": [
      "[False, False, True, True]\n",
      "[43 44]\n"
     ]
    }
   ],
   "source": [
    "#### Create a filter array that will return only values higher than 42:\n",
    "\n",
    "arr = np.array([41, 42, 43, 44])\n",
    "\n",
    "# Create an empty list\n",
    "filter_arr = []\n",
    "\n",
    "# go through each element in arr\n",
    "for element in arr:\n",
    "  # if the element is higher than 42, set the value to True, otherwise False:\n",
    "  if element > 42:\n",
    "    filter_arr.append(True)\n",
    "  else:\n",
    "    filter_arr.append(False)\n",
    "\n",
    "newarr = arr[filter_arr]\n",
    "\n",
    "print(filter_arr)\n",
    "print(newarr)"
   ]
  },
  {
   "cell_type": "code",
   "execution_count": 91,
   "id": "b87d80d3",
   "metadata": {
    "execution": {
     "iopub.execute_input": "2022-01-08T22:32:24.859466Z",
     "iopub.status.busy": "2022-01-08T22:32:24.858797Z",
     "iopub.status.idle": "2022-01-08T22:32:24.864601Z",
     "shell.execute_reply": "2022-01-08T22:32:24.865164Z",
     "shell.execute_reply.started": "2022-01-08T22:31:21.708637Z"
    },
    "papermill": {
     "duration": 0.126664,
     "end_time": "2022-01-08T22:32:24.865355",
     "exception": false,
     "start_time": "2022-01-08T22:32:24.738691",
     "status": "completed"
    },
    "tags": []
   },
   "outputs": [
    {
     "name": "stdout",
     "output_type": "stream",
     "text": [
      "[False, True, False, True, False, True, False, True, False, True, False, True, False, True, False, True, False, True, False]\n",
      "[ 2  4  6  8 10 12 14 16 18]\n"
     ]
    }
   ],
   "source": [
    "### Q. Create a filter array that will return only even elements from the original array:\n",
    "\n",
    "arr= np.arange(1,20)\n",
    "filter_arg= []\n",
    "\n",
    "for i in arr:\n",
    "    if i % 2==0:\n",
    "        filter_arg.append(True)\n",
    "    else:\n",
    "        filter_arg.append(False)\n",
    "\n",
    "new_arr = arr[filter_arg]\n",
    "\n",
    "print(filter_arg)\n",
    "print(new_arr)"
   ]
  },
  {
   "cell_type": "markdown",
   "id": "d293caf0",
   "metadata": {
    "papermill": {
     "duration": 0.166785,
     "end_time": "2022-01-08T22:32:25.151656",
     "exception": false,
     "start_time": "2022-01-08T22:32:24.984871",
     "status": "completed"
    },
    "tags": []
   },
   "source": [
    "### Creating Filter Directly From Array\n",
    "\n",
    "* The above example is quite a common task in NumPy and NumPy provides a nice way to tackle it.\n",
    "* We can directly substitute the array instead of the iterable variable in our condition and it will work just as we expect it to."
   ]
  },
  {
   "cell_type": "code",
   "execution_count": 92,
   "id": "2a2b7f73",
   "metadata": {
    "execution": {
     "iopub.execute_input": "2022-01-08T22:32:25.392106Z",
     "iopub.status.busy": "2022-01-08T22:32:25.391565Z",
     "iopub.status.idle": "2022-01-08T22:32:25.397382Z",
     "shell.execute_reply": "2022-01-08T22:32:25.398182Z",
     "shell.execute_reply.started": "2022-01-08T22:31:21.725374Z"
    },
    "papermill": {
     "duration": 0.127766,
     "end_time": "2022-01-08T22:32:25.398460",
     "exception": false,
     "start_time": "2022-01-08T22:32:25.270694",
     "status": "completed"
    },
    "tags": []
   },
   "outputs": [
    {
     "name": "stdout",
     "output_type": "stream",
     "text": [
      "[False False  True  True]\n",
      "[43 44]\n"
     ]
    }
   ],
   "source": [
    "### Create a filter array that will return only values higher than 42:\n",
    "\n",
    "arr = np.array([41, 42, 43, 44])\n",
    "\n",
    "filter_arr = arr > 42\n",
    "\n",
    "newarr = arr[filter_arr]\n",
    "\n",
    "print(filter_arr)\n",
    "print(newarr)"
   ]
  },
  {
   "cell_type": "code",
   "execution_count": 93,
   "id": "bbbf4910",
   "metadata": {
    "execution": {
     "iopub.execute_input": "2022-01-08T22:32:25.648568Z",
     "iopub.status.busy": "2022-01-08T22:32:25.647968Z",
     "iopub.status.idle": "2022-01-08T22:32:25.653911Z",
     "shell.execute_reply": "2022-01-08T22:32:25.654416Z",
     "shell.execute_reply.started": "2022-01-08T22:31:21.737059Z"
    },
    "papermill": {
     "duration": 0.136263,
     "end_time": "2022-01-08T22:32:25.654656",
     "exception": false,
     "start_time": "2022-01-08T22:32:25.518393",
     "status": "completed"
    },
    "tags": []
   },
   "outputs": [
    {
     "name": "stdout",
     "output_type": "stream",
     "text": [
      "[False  True False  True False  True False]\n",
      "[2 4 6]\n"
     ]
    }
   ],
   "source": [
    "### Create a filter array that will return only even elements from the original array:\n",
    "\n",
    "arr = np.array([1, 2, 3, 4, 5, 6, 7])\n",
    "\n",
    "filter_arr = arr % 2 == 0\n",
    "\n",
    "newarr = arr[filter_arr]\n",
    "\n",
    "print(filter_arr)\n",
    "print(newarr)"
   ]
  },
  {
   "cell_type": "code",
   "execution_count": 94,
   "id": "f5091775",
   "metadata": {
    "execution": {
     "iopub.execute_input": "2022-01-08T22:32:25.906677Z",
     "iopub.status.busy": "2022-01-08T22:32:25.905985Z",
     "iopub.status.idle": "2022-01-08T22:32:25.922049Z",
     "shell.execute_reply": "2022-01-08T22:32:25.922592Z",
     "shell.execute_reply.started": "2022-01-08T22:31:21.749868Z"
    },
    "papermill": {
     "duration": 0.143954,
     "end_time": "2022-01-08T22:32:25.922754",
     "exception": false,
     "start_time": "2022-01-08T22:32:25.778800",
     "status": "completed"
    },
    "tags": []
   },
   "outputs": [
    {
     "data": {
      "text/plain": [
       "array([False,  True, False,  True, False,  True, False])"
      ]
     },
     "execution_count": 94,
     "metadata": {},
     "output_type": "execute_result"
    }
   ],
   "source": [
    "#### In case if u r curious what this \" arr % 2 == 0\" returns\n",
    "\n",
    "arr % 2 == 0"
   ]
  },
  {
   "cell_type": "markdown",
   "id": "27c7f73b",
   "metadata": {
    "papermill": {
     "duration": 0.119557,
     "end_time": "2022-01-08T22:32:26.170798",
     "exception": false,
     "start_time": "2022-01-08T22:32:26.051241",
     "status": "completed"
    },
    "tags": []
   },
   "source": [
    "# Random"
   ]
  },
  {
   "cell_type": "code",
   "execution_count": 95,
   "id": "4473594a",
   "metadata": {
    "execution": {
     "iopub.execute_input": "2022-01-08T22:32:26.412148Z",
     "iopub.status.busy": "2022-01-08T22:32:26.411572Z",
     "iopub.status.idle": "2022-01-08T22:32:26.415360Z",
     "shell.execute_reply": "2022-01-08T22:32:26.415905Z",
     "shell.execute_reply.started": "2022-01-08T22:31:21.763326Z"
    },
    "papermill": {
     "duration": 0.12569,
     "end_time": "2022-01-08T22:32:26.416060",
     "exception": false,
     "start_time": "2022-01-08T22:32:26.290370",
     "status": "completed"
    },
    "tags": []
   },
   "outputs": [],
   "source": [
    "from numpy import random  ## NumPy offers the random module to work with random numbers."
   ]
  },
  {
   "attachments": {
    "0736288d-001f-487f-9666-80c1aed0d613.PNG": {
     "image/png": "[encoded data removed]"
    }
   },
   "cell_type": "markdown",
   "id": "c486355d",
   "metadata": {
    "papermill": {
     "duration": 0.118333,
     "end_time": "2022-01-08T22:32:26.655956",
     "exception": false,
     "start_time": "2022-01-08T22:32:26.537623",
     "status": "completed"
    },
    "tags": []
   },
   "source": [
    "## Q. What is Random\n",
    "* Random number does NOT mean a different number every time. Random means something that can not be predicted logically.\n",
    "\n",
    "## Pseudo Random and True Random\n",
    "![apple ipod bias.PNG](attachment:0736288d-001f-487f-9666-80c1aed0d613.PNG)\n",
    "[link](https://forums.macrumors.com/threads/ipod-classics-shuffle-songs-feature-is-not-random-at-all-same-artists-often.1127298/)\n",
    "\n",
    "* Computers work on programs, and programs are definitive set of instructions. So it means there must be some algorithm to generate a random number as well.\n",
    "* If there is a program to generate random number it can be predicted, thus it is not truly random.\n",
    "* Random numbers generated through a generation algorithm are called pseudo random.\n",
    "\n",
    "### Can we make truly random numbers?\n",
    "> Yes. In order to generate a truly random number on our computers we need to get the random data from some outside source. This outside source is generally our keystrokes, mouse movements, data on network etc.\n",
    "\n",
    "**Note:** `We do not need truly random numbers, unless its related to security (e.g. encryption keys) or the basis of application is the randomness (e.g. Digital roulette wheels).`"
   ]
  },
  {
   "cell_type": "code",
   "execution_count": 96,
   "id": "c8b57e6e",
   "metadata": {
    "execution": {
     "iopub.execute_input": "2022-01-08T22:32:26.896857Z",
     "iopub.status.busy": "2022-01-08T22:32:26.896196Z",
     "iopub.status.idle": "2022-01-08T22:32:26.902094Z",
     "shell.execute_reply": "2022-01-08T22:32:26.902682Z",
     "shell.execute_reply.started": "2022-01-08T22:31:21.775764Z"
    },
    "papermill": {
     "duration": 0.128408,
     "end_time": "2022-01-08T22:32:26.902877",
     "exception": false,
     "start_time": "2022-01-08T22:32:26.774469",
     "status": "completed"
    },
    "tags": []
   },
   "outputs": [
    {
     "name": "stdout",
     "output_type": "stream",
     "text": [
      "Integer No:  37\n",
      "Float No:  0.5879612664313826\n",
      "This create new no every time we run this code, to create same output everytime we need random.seed\n"
     ]
    }
   ],
   "source": [
    "## Generate random no\n",
    "a = random.randint(777)  ### random no in between 0 and 777\n",
    "b = random.rand()  ## random module's rand() method returns a random float between 0 and 1.\n",
    "print('Integer No: ',a)\n",
    "print('Float No: ',b)\n",
    "print('This create new no every time we run this code, to create same output everytime we need random.seed')"
   ]
  },
  {
   "cell_type": "code",
   "execution_count": 97,
   "id": "5f63c4e5",
   "metadata": {
    "execution": {
     "iopub.execute_input": "2022-01-08T22:32:27.151717Z",
     "iopub.status.busy": "2022-01-08T22:32:27.150830Z",
     "iopub.status.idle": "2022-01-08T22:32:27.156096Z",
     "shell.execute_reply": "2022-01-08T22:32:27.155628Z",
     "shell.execute_reply.started": "2022-01-08T22:31:21.792823Z"
    },
    "papermill": {
     "duration": 0.132706,
     "end_time": "2022-01-08T22:32:27.156247",
     "exception": false,
     "start_time": "2022-01-08T22:32:27.023541",
     "status": "completed"
    },
    "tags": []
   },
   "outputs": [
    {
     "name": "stdout",
     "output_type": "stream",
     "text": [
      "1st run [0.56434117 0.73324854 0.65004462 0.44657827]\n",
      "2nd run [0.79773344 0.95607314 0.40632817 0.10745098]\n",
      "Now Lets use random.seed\n",
      "1st run [0.07630829 0.77991879 0.43840923 0.72346518]\n",
      "2nd run [0.07630829 0.77991879 0.43840923 0.72346518]\n"
     ]
    }
   ],
   "source": [
    "print('1st run',np.random.rand(4))\n",
    "print('2nd run',np.random.rand(4))\n",
    "print('Now Lets use random.seed')\n",
    "np.random.seed(7)\n",
    "print('1st run',np.random.rand(4))\n",
    "np.random.seed(7)\n",
    "print('2nd run',np.random.rand(4))"
   ]
  },
  {
   "attachments": {
    "b978ab92-008f-4462-acd8-7f5922f4497f.PNG": {
     "image/png": "[encoded data removed]"
    },
    "eb9fe95a-de8d-4fbb-83ec-74528aa121ad.PNG": {
     "image/png": "[encoded data removed]"
    }
   },
   "cell_type": "markdown",
   "id": "4ca1b56f",
   "metadata": {
    "papermill": {
     "duration": 0.118336,
     "end_time": "2022-01-08T22:32:27.396335",
     "exception": false,
     "start_time": "2022-01-08T22:32:27.277999",
     "status": "completed"
    },
    "tags": []
   },
   "source": [
    "np.random.seed(n) :: n is any integer no >> random.seed `makes the random numbers predictable`\n",
    "* With the seed reset (every time), the same set of numbers will appear every time.\n",
    "* If the random seed is not reset, different numbers appear with every invocation:\n",
    "\n",
    "![random seed.PNG](attachment:b978ab92-008f-4462-acd8-7f5922f4497f.PNG)\n",
    "\n",
    "![use of random seed.PNG](attachment:eb9fe95a-de8d-4fbb-83ec-74528aa121ad.PNG)\n",
    "\n",
    "(pseudo-)random numbers work by starting with a number (the seed), multiplying it by a large number, adding an offset, then taking modulo of that sum. The resulting number is then used as the seed to generate the next \"random\" number. When you set the seed (every time), it does the same thing every time, giving you the same numbers.  \n",
    "\n",
    "If you want seemingly random numbers, do not set the seed. If you have code that uses random numbers that you want to debug, however, it can be very helpful to set the seed before each run so that the code does the same thing every time you run it.  \n",
    "\n",
    "To get the most random numbers for each run, call numpy.random.seed(). This will cause numpy to set the seed to a random number obtained from /dev/urandom or its Windows analog or, if neither of those is available, it will use the clock.  \n",
    "[read more Wikipedia](https://en.wikipedia.org/wiki/Random_number_generation#Computational_methods)"
   ]
  },
  {
   "cell_type": "markdown",
   "id": "44aa7706",
   "metadata": {
    "papermill": {
     "duration": 0.118469,
     "end_time": "2022-01-08T22:32:27.633368",
     "exception": false,
     "start_time": "2022-01-08T22:32:27.514899",
     "status": "completed"
    },
    "tags": []
   },
   "source": [
    "# Creating Random Array"
   ]
  },
  {
   "cell_type": "code",
   "execution_count": 98,
   "id": "54e3b4d8",
   "metadata": {
    "execution": {
     "iopub.execute_input": "2022-01-08T22:32:27.877282Z",
     "iopub.status.busy": "2022-01-08T22:32:27.876664Z",
     "iopub.status.idle": "2022-01-08T22:32:27.880345Z",
     "shell.execute_reply": "2022-01-08T22:32:27.879882Z",
     "shell.execute_reply.started": "2022-01-08T22:31:21.807773Z"
    },
    "papermill": {
     "duration": 0.128584,
     "end_time": "2022-01-08T22:32:27.880478",
     "exception": false,
     "start_time": "2022-01-08T22:32:27.751894",
     "status": "completed"
    },
    "tags": []
   },
   "outputs": [
    {
     "data": {
      "text/plain": [
       "array([92, 57, 14, 23, 72])"
      ]
     },
     "execution_count": 98,
     "metadata": {},
     "output_type": "execute_result"
    }
   ],
   "source": [
    "## Generate a 1-D array containing 5 random integers from 0 to 100:\n",
    "random.randint(100, size=(5))"
   ]
  },
  {
   "cell_type": "code",
   "execution_count": 99,
   "id": "67152096",
   "metadata": {
    "execution": {
     "iopub.execute_input": "2022-01-08T22:32:28.125307Z",
     "iopub.status.busy": "2022-01-08T22:32:28.124699Z",
     "iopub.status.idle": "2022-01-08T22:32:28.128969Z",
     "shell.execute_reply": "2022-01-08T22:32:28.128491Z",
     "shell.execute_reply.started": "2022-01-08T22:31:21.819082Z"
    },
    "papermill": {
     "duration": 0.128731,
     "end_time": "2022-01-08T22:32:28.129101",
     "exception": false,
     "start_time": "2022-01-08T22:32:28.000370",
     "status": "completed"
    },
    "tags": []
   },
   "outputs": [
    {
     "data": {
      "text/plain": [
       "array([[89, 42, 90,  8, 39],\n",
       "       [68, 48,  7, 44,  0],\n",
       "       [75, 55,  6, 19, 60]])"
      ]
     },
     "execution_count": 99,
     "metadata": {},
     "output_type": "execute_result"
    }
   ],
   "source": [
    "# Generate a 2-D array with 3 rows, each row containing 5 random integers from 0 to 100:\n",
    "random.randint(100, size=(3, 5))"
   ]
  },
  {
   "cell_type": "code",
   "execution_count": 100,
   "id": "c0a6f80b",
   "metadata": {
    "execution": {
     "iopub.execute_input": "2022-01-08T22:32:28.376090Z",
     "iopub.status.busy": "2022-01-08T22:32:28.375526Z",
     "iopub.status.idle": "2022-01-08T22:32:28.379044Z",
     "shell.execute_reply": "2022-01-08T22:32:28.378480Z",
     "shell.execute_reply.started": "2022-01-08T22:31:21.834781Z"
    },
    "papermill": {
     "duration": 0.129176,
     "end_time": "2022-01-08T22:32:28.379174",
     "exception": false,
     "start_time": "2022-01-08T22:32:28.249998",
     "status": "completed"
    },
    "tags": []
   },
   "outputs": [
    {
     "data": {
      "text/plain": [
       "array([[[44, 63, 69, 56, 24],\n",
       "        [55, 53, 61, 64, 34]],\n",
       "\n",
       "       [[56, 73, 78, 38,  4],\n",
       "        [ 9, 87, 99, 67, 72]],\n",
       "\n",
       "       [[83, 48,  1, 64, 16],\n",
       "        [31, 93, 44, 92, 71]]])"
      ]
     },
     "execution_count": 100,
     "metadata": {},
     "output_type": "execute_result"
    }
   ],
   "source": [
    "# Generate a 3-D array with 3,2,5:\n",
    "random.randint(100, size=(3,2,5))"
   ]
  },
  {
   "cell_type": "markdown",
   "id": "f568de9a",
   "metadata": {
    "papermill": {
     "duration": 0.11979,
     "end_time": "2022-01-08T22:32:28.620810",
     "exception": false,
     "start_time": "2022-01-08T22:32:28.501020",
     "status": "completed"
    },
    "tags": []
   },
   "source": [
    "### Generate Random Number From Array\n",
    "* The **choice()** method allows you to generate a random value based on an array of values.\n",
    "* The *choice()* method takes an array as a parameter and randomly returns one of the values.\n",
    "* The choice() method also allows you to return an array of values.\n",
    "* ***size*** parameter to specify the shape of the array."
   ]
  },
  {
   "cell_type": "code",
   "execution_count": 101,
   "id": "6066fccf",
   "metadata": {
    "execution": {
     "iopub.execute_input": "2022-01-08T22:32:28.873602Z",
     "iopub.status.busy": "2022-01-08T22:32:28.872536Z",
     "iopub.status.idle": "2022-01-08T22:32:28.876103Z",
     "shell.execute_reply": "2022-01-08T22:32:28.876822Z",
     "shell.execute_reply.started": "2022-01-08T22:31:21.850455Z"
    },
    "papermill": {
     "duration": 0.136292,
     "end_time": "2022-01-08T22:32:28.877056",
     "exception": false,
     "start_time": "2022-01-08T22:32:28.740764",
     "status": "completed"
    },
    "tags": []
   },
   "outputs": [
    {
     "data": {
      "text/plain": [
       "9"
      ]
     },
     "execution_count": 101,
     "metadata": {},
     "output_type": "execute_result"
    }
   ],
   "source": [
    "random.choice([3, 6, 9, 12, 15, 18, 21]) ### Will choose from an array of 7"
   ]
  },
  {
   "cell_type": "code",
   "execution_count": 102,
   "id": "1431fc51",
   "metadata": {
    "execution": {
     "iopub.execute_input": "2022-01-08T22:32:29.148851Z",
     "iopub.status.busy": "2022-01-08T22:32:29.148134Z",
     "iopub.status.idle": "2022-01-08T22:32:29.152735Z",
     "shell.execute_reply": "2022-01-08T22:32:29.152293Z",
     "shell.execute_reply.started": "2022-01-08T22:31:21.864122Z"
    },
    "papermill": {
     "duration": 0.133485,
     "end_time": "2022-01-08T22:32:29.152871",
     "exception": false,
     "start_time": "2022-01-08T22:32:29.019386",
     "status": "completed"
    },
    "tags": []
   },
   "outputs": [
    {
     "data": {
      "text/plain": [
       "array([35, 64, 61,  7, 23])"
      ]
     },
     "execution_count": 102,
     "metadata": {},
     "output_type": "execute_result"
    }
   ],
   "source": [
    "random.choice(100,size=(5))\n",
    "# What is the difference between this and random.randint(100, size=5)"
   ]
  },
  {
   "cell_type": "code",
   "execution_count": 103,
   "id": "7b9a76e9",
   "metadata": {
    "execution": {
     "iopub.execute_input": "2022-01-08T22:32:29.407118Z",
     "iopub.status.busy": "2022-01-08T22:32:29.406537Z",
     "iopub.status.idle": "2022-01-08T22:32:29.409910Z",
     "shell.execute_reply": "2022-01-08T22:32:29.410411Z",
     "shell.execute_reply.started": "2022-01-08T22:31:21.876531Z"
    },
    "papermill": {
     "duration": 0.131833,
     "end_time": "2022-01-08T22:32:29.410584",
     "exception": false,
     "start_time": "2022-01-08T22:32:29.278751",
     "status": "completed"
    },
    "tags": []
   },
   "outputs": [
    {
     "data": {
      "text/plain": [
       "array([[15,  3, 18, 15, 12],\n",
       "       [ 6, 12, 12, 12,  6],\n",
       "       [12, 12, 15, 12,  6]])"
      ]
     },
     "execution_count": 103,
     "metadata": {},
     "output_type": "execute_result"
    }
   ],
   "source": [
    "# Generate a 2-D array that consists of the values in the array parameter (3, 6, 9, 12, 15, 18 and 21):\n",
    "random.choice([3, 6, 9, 12, 15, 18, 21], size=(3, 5))"
   ]
  },
  {
   "cell_type": "markdown",
   "id": "24c0eb88",
   "metadata": {
    "papermill": {
     "duration": 0.119853,
     "end_time": "2022-01-08T22:32:29.651572",
     "exception": false,
     "start_time": "2022-01-08T22:32:29.531719",
     "status": "completed"
    },
    "tags": []
   },
   "source": [
    "# Random Permutations of Elements\n",
    "\n",
    "* A permutation refers to an arrangement of elements. e.g. [3, 2, 1] is a permutation of [1, 2, 3] and vice-versa.\n",
    "* The NumPy Random module provides two methods for this: shuffle() and permutation()."
   ]
  },
  {
   "cell_type": "code",
   "execution_count": 104,
   "id": "c446426e",
   "metadata": {
    "execution": {
     "iopub.execute_input": "2022-01-08T22:32:29.898613Z",
     "iopub.status.busy": "2022-01-08T22:32:29.897976Z",
     "iopub.status.idle": "2022-01-08T22:32:29.903168Z",
     "shell.execute_reply": "2022-01-08T22:32:29.902687Z",
     "shell.execute_reply.started": "2022-01-08T22:31:21.890221Z"
    },
    "papermill": {
     "duration": 0.131885,
     "end_time": "2022-01-08T22:32:29.903358",
     "exception": false,
     "start_time": "2022-01-08T22:32:29.771473",
     "status": "completed"
    },
    "tags": []
   },
   "outputs": [
    {
     "name": "stdout",
     "output_type": "stream",
     "text": [
      "1st try [1 5 2 3 4]\n",
      "2nd try [1 2 3 4 5]\n",
      "3rd try [2 1 5 4 3]\n",
      "each this is also random\n"
     ]
    }
   ],
   "source": [
    "# Shuffle means changing arrangement of elements in-place. i.e. in the array itself.\n",
    "\n",
    "arr = np.array([1, 2, 3, 4, 5])\n",
    "random.shuffle(arr)  ## The shuffle() method makes changes to the original array.\n",
    "print('1st try',arr)\n",
    "\n",
    "random.shuffle(arr)\n",
    "print('2nd try',arr)\n",
    "\n",
    "random.shuffle(arr)\n",
    "print('3rd try',arr)\n",
    "print(\"each this is also random\")"
   ]
  },
  {
   "cell_type": "code",
   "execution_count": 105,
   "id": "cf92101d",
   "metadata": {
    "execution": {
     "iopub.execute_input": "2022-01-08T22:32:30.153598Z",
     "iopub.status.busy": "2022-01-08T22:32:30.152956Z",
     "iopub.status.idle": "2022-01-08T22:32:30.156551Z",
     "shell.execute_reply": "2022-01-08T22:32:30.156986Z",
     "shell.execute_reply.started": "2022-01-08T22:31:21.900680Z"
    },
    "papermill": {
     "duration": 0.131262,
     "end_time": "2022-01-08T22:32:30.157141",
     "exception": false,
     "start_time": "2022-01-08T22:32:30.025879",
     "status": "completed"
    },
    "tags": []
   },
   "outputs": [
    {
     "name": "stdout",
     "output_type": "stream",
     "text": [
      "[1 2 3 5 4]\n"
     ]
    }
   ],
   "source": [
    "## Generating Permutation of Arrays\n",
    "\n",
    "arr = np.array([1, 2, 3, 4, 5])\n",
    "print(random.permutation(arr))  ### The permutation() method returns a re-arranged array (and leaves the original array un-changed)."
   ]
  }
 ],
 "metadata": {
  "kernelspec": {
   "display_name": "Python 3",
   "language": "python",
   "name": "python3"
  },
  "language_info": {
   "codemirror_mode": {
    "name": "ipython",
    "version": 3
   },
   "file_extension": ".py",
   "mimetype": "text/x-python",
   "name": "python",
   "nbconvert_exporter": "python",
   "pygments_lexer": "ipython3",
   "version": "3.7.12"
  },
  "papermill": {
   "default_parameters": {},
   "duration": 44.644743,
   "end_time": "2022-01-08T22:32:30.887257",
   "environment_variables": {},
   "exception": null,
   "input_path": "__notebook__.ipynb",
   "output_path": "__notebook__.ipynb",
   "parameters": {},
   "start_time": "2022-01-08T22:31:46.242514",
   "version": "2.3.3"
  }
 },
 "nbformat": 4,
 "nbformat_minor": 5
}
